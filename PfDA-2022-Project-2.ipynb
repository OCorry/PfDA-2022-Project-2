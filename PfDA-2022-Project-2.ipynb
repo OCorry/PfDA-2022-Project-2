{
 "cells": [
  {
   "cell_type": "markdown",
   "id": "c6321591",
   "metadata": {},
   "source": [
    " # <font color=darkblue>Programming for Data Analysis 2022 - Project 2</font>\n",
    "\n",
    "## <font color=darkblue>Orla Corry</font>\n",
    "***"
   ]
  },
  {
   "cell_type": "markdown",
   "id": "af9a3b53",
   "metadata": {},
   "source": [
    "## <font color=darkblue>Table of Contents</font>\n",
    "***\n",
    "\n",
    "- [Introduction](#Introduction)\n",
    "\n",
    "\n",
    "- [Importing Libraries](#Importing-Libraries)"
   ]
  },
  {
   "cell_type": "markdown",
   "id": "402bbe6f",
   "metadata": {},
   "source": [
    "## <font color=darkblue>Introduction</font>\n",
    "***"
   ]
  },
  {
   "cell_type": "markdown",
   "id": "8d31cd3c",
   "metadata": {},
   "source": [
    "## <font color=darkblue>Importing Libraries</font>\n",
    "***\n",
    "\n",
    "For this project I will be importing the following Libraries:\n",
    "\n",
    "1. **Pandas** - to read in the dataset and to analyse data that is in tabular form"
   ]
  },
  {
   "cell_type": "code",
   "execution_count": 1,
   "id": "b311a543",
   "metadata": {},
   "outputs": [],
   "source": [
    "import pandas as pd"
   ]
  },
  {
   "cell_type": "code",
   "execution_count": 5,
   "id": "83711859",
   "metadata": {},
   "outputs": [],
   "source": [
    "# Reading in the csv file using pandas\n",
    "dataset = (\"dataset.csv\")\n",
    "df = pd.read_csv (dataset) #storing the read in csv file as df "
   ]
  },
  {
   "cell_type": "code",
   "execution_count": 7,
   "id": "0a62093b",
   "metadata": {},
   "outputs": [],
   "source": [
    "# Printing the dataframe (df) to make sure the csv file read in to Python properly\n",
    "#df"
   ]
  },
  {
   "cell_type": "code",
   "execution_count": null,
   "id": "b5009a2c",
   "metadata": {},
   "outputs": [],
   "source": []
  }
 ],
 "metadata": {
  "kernelspec": {
   "display_name": "Python 3 (ipykernel)",
   "language": "python",
   "name": "python3"
  },
  "language_info": {
   "codemirror_mode": {
    "name": "ipython",
    "version": 3
   },
   "file_extension": ".py",
   "mimetype": "text/x-python",
   "name": "python",
   "nbconvert_exporter": "python",
   "pygments_lexer": "ipython3",
   "version": "3.9.13"
  }
 },
 "nbformat": 4,
 "nbformat_minor": 5
}
