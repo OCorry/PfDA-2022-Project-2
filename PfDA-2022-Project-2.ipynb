{
 "cells": [
  {
   "cell_type": "markdown",
   "id": "c6321591",
   "metadata": {},
   "source": [
    " # <font color=darkblue>Programming for Data Analysis 2022 - Project 2</font>\n",
    "\n",
    "## <font color=darkblue>Orla Corry</font>\n",
    "***"
   ]
  },
  {
   "cell_type": "markdown",
   "id": "af9a3b53",
   "metadata": {},
   "source": [
    "## <font color=darkblue>Table of Contents</font>\n",
    "***\n",
    "\n",
    "- [Introduction](#Introduction)\n",
    "\n",
    "\n",
    "- [Importing Libraries](#Importing-Libraries)\n",
    "\n",
    "\n",
    "- [Reading in the csv file](#Reading-in-the-csv-file)\n",
    "\n",
    "\n",
    "- [Analysis/review of the dataset](#Analysis/review-of-the-dataset)\n",
    "\n",
    "\n",
    "- [Literature review on classifiers](#Literature-review-on-classifiers)\n",
    "\n",
    "\n",
    "- [Statistical Analysis of the Dataset](#Statistical-Analysis-of-the-Dataset)\n",
    "\n",
    "\n",
    "- [Training Classifiers](#Training-Classifiers)\n",
    "\n",
    "\n",
    "- [References](#References)"
   ]
  },
  {
   "cell_type": "markdown",
   "id": "402bbe6f",
   "metadata": {},
   "source": [
    "## <font color=darkblue>Introduction</font>\n",
    "***"
   ]
  },
  {
   "cell_type": "markdown",
   "id": "8d31cd3c",
   "metadata": {},
   "source": [
    "## <font color=darkblue>Importing Libraries</font>\n",
    "***\n",
    "\n",
    "For this project I will be importing the following Libraries:\n",
    "\n",
    "1. **pandas** - To read in the dataset and to analyse data that is in tabular form\n",
    "\n",
    "\n",
    "2. **matplotlib.pyplot** - For Plotting data \n",
    "\n",
    "\n",
    "3. **seaborn** - For Plotting data\n",
    "\n",
    "\n",
    "4. **sklearn** - For regression analysis  ?????\n",
    "\n",
    "\n",
    "5. **numpy** - For working with arrays and synthasising data\n"
   ]
  },
  {
   "cell_type": "code",
   "execution_count": 1,
   "id": "b311a543",
   "metadata": {},
   "outputs": [],
   "source": [
    "import pandas as pd\n",
    "import seaborn as sns \n",
    "import matplotlib.pyplot as plt \n",
    "from sklearn import linear_model \n",
    "import numpy as np\n",
    "import scipy.stats as st\n",
    "import sklearn.neighbors as nei"
   ]
  },
  {
   "cell_type": "code",
   "execution_count": 2,
   "id": "8d017722",
   "metadata": {},
   "outputs": [
    {
     "data": {
      "text/html": [
       "<style>\n",
       "table{float:left}\n",
       "</style>\n"
      ],
      "text/plain": [
       "<IPython.core.display.HTML object>"
      ]
     },
     "metadata": {},
     "output_type": "display_data"
    }
   ],
   "source": [
    "%%html\n",
    "<style>\n",
    "table{float:left}\n",
    "</style>"
   ]
  },
  {
   "cell_type": "markdown",
   "id": "e8fc9b9d",
   "metadata": {},
   "source": [
    "## <font color=darkblue>Reading in the csv file</font>\n",
    "***\n",
    "I have sourced the Wesconsin Breast Cancer Dataset from <a href=\"https://github.com/jeffheaton/aifh/blob/master/vol1/python-examples/datasets/breast-cancer-wisconsin.csv\" target=\"_top\">Heaton. J (Github), 2013</a>. To pull the actual csv URL from Heaton's Github, I clicked on the *Raw* tab and copied & pasted the URL that was provided for the raw data. Below, I have read in the the csv file to Python using the built in library <a href=\"https://pandas.pydata.org/docs/\" target=\"_top\">Pandas</a>.\n"
   ]
  },
  {
   "cell_type": "code",
   "execution_count": 3,
   "id": "e8f744d7",
   "metadata": {},
   "outputs": [],
   "source": [
    "# Reading in the csv file using pandas\n",
    "# Using dataset from https://github.com/jeffheaton/aifh/blob/master/vol1/python-examples/datasets/breast-cancer-wisconsin.csv\n",
    "df = pd.read_csv (\"https://archive.ics.uci.edu/ml/machine-learning-databases/breast-cancer-wisconsin/breast-cancer-wisconsin.data\",\n",
    "          names = ['ID','Clump_Thickness','Uniformity_of_Cell_Size', 'Uniformity_of_Cell_Shape', 'Marginal_Adhesion', \n",
    "                  'Single_Epithelial_Cell_Size', 'Bare_Nuclei', 'Bland_Chromatin', 'Normal_Nucleoli', 'Mitoses', 'Class'],na_values ='?')#storing the read in csv dataframe as df \n",
    "#df"
   ]
  },
  {
   "cell_type": "markdown",
   "id": "ce22a7b8",
   "metadata": {},
   "source": [
    "## <font color=darkblue>Analysis/review of the dataset</font>\n",
    "***\n",
    "The Breast Cancer Wisconsin (Original) Data Set is a classification dataset that records measurements under a number of attributes <a href=\"http://odds.cs.stonybrook.edu/breast-cancer-wisconsin-original-dataset/\" target=\"_top\">ODDS. (2022)</a> in order to predict whether a case is either of class benign or class malignant. These attributes will be discussed in more detail later on.\n",
    "\n",
    "Using the <a href=\"https://pandas.pydata.org/pandas-docs/stable/reference/api/pandas.DataFrame.shape.html\" target=\"_top\">df.shape</a> command on the dataframe above, we can see that the dataset comprises of 699 instances/cases (rows) of data across 11 attributes (columns). \n",
    "\n",
    "The 699 rows of data were gathered over a period of time which spanned from January 1989 through to November 1991. The data gathered over the 8 periods during this time is organised into 8 groups. \n",
    "\n",
    "There are 11 features or attributes to this dataset, all of which are of data type *integer*. Starting at column index 0 through to index 10, the first column contains the *id* of the case/instance which are integers with multiple digits. From column index 1 to index 9 the 9 attributes, namely; *clump thickness*, *size uniformity*, *shape uniformity*, *marginal adhesion*, *epithelial size*, *bare nucleoli*, *bland chromatin*, *normal nucleoli* and *mitoses* are given values ranging from 1 to 10. According to <a href=\"https://www.journalbinet.com/uploads/2/1/0/0/21005390/67.02.09.2020_analysis_of_wisconsin_breast_cancer_original_dataset_using_data_mining_and_machine_learning_algorithms_for_breast_cancer_prediction.pdf\" target=\"_top\">Ahmed, T. et al. (2020)</a> the larger the value for these 9 attruibutes, the greater the chance of the case being malignant. Finally, the last column contains the attribute *class* which contains values either 2 or 4 where 2 represents benign and 4 represents malignant <a href=\"https://archive.ics.uci.edu/ml/datasets/breast+cancer+wisconsin+(original)\" target=\"_top\">Wolberg, W.H. (1992)</a>. **Table 1.** below summarises all of the attributes (excluding the *id** attribute) and what values they can take.\n",
    "\n",
    "<ins>**Table 1.**</ins>\n",
    "\n",
    "\n",
    "\n",
    "|*Attributes*      |*Value*|\n",
    "|:-----------------|:--:\n",
    "|\n",
    "|Clump thickness   |1-10|\n",
    "|Size uniformity   |1-10| \n",
    "|Shape uniformity  |1-10|\n",
    "|Marginal Adheasion|1-10|\n",
    "|Epithelial size   |1-10| \n",
    "|Bare nucleoli     |1-10|\n",
    "|Bland chromatin   |1-10| \n",
    "|Normal nucleoli   |1-10| \n",
    "|Mitoses           |1-10|\n",
    "|Class             |2 = benign & 4= malignant|\n"
   ]
  },
  {
   "cell_type": "markdown",
   "id": "dfef881a",
   "metadata": {},
   "source": [
    "## <font color=darkblue>Literature review on classifiers</font>\n",
    "***\n",
    "While there are may different variations of definitions of classifiers in machine learning, according to the <a href=\"https://scikit-learn.org/stable/\" target=\"_top\">scikit-learn documentation (2022)</a>, classifiers identify which category an object belongs to. A classifier can be defined as an algorithm that automatically assigns data points to a range of categories or classes and there are two main models; supervised and unsupervised <a href=\"https://www.indeed.com/career-advice/career-development/classifiers-in-machine-learning\" target=\"_top\">Indeed Editorial Team. (2022)</a>.\n",
    "\n",
    "This section sets out to research some previous studies done using the Wisconsin Breast Cancer (Original) Data Set, and to establish what classifiers were used and compare their performances. \n",
    "\n",
    "### <font color=darkblue><ins>Study 1</ins></font>\n",
    "\n",
    "##### <ins>Introduction</ins>\n",
    "A study titled *Study and Analysis of Breast Cancer Data* carried out by <a href=\"https://www.ijert.org/research/study-and-analysis-of-breast-cancer-data-IJERTCONV5IS21015.pdf\" target=\"_top\">Manoli. N.S and Padma. S.K (2017) </a> used two forms of classifiers namely; the Naive-Bayes Classifier and the Support Vector Machine (SVM) classifier along with a further feature called **<a href=\"https://en.wikipedia.org/wiki/Principal_component_analysis\" target=\"_top\">Principal Component Analysis (PCA) </a>**. A PCA is a machine learning technique used on datasets with many variables/features to reduce the dimensions of the dataset. This is used because if a dataset has a lot of input attributes, it can lead to the classifier failing <a href=\"https://www.upgrad.com/blog/pca-in-machine-learning/\" target=\"_top\">Vadapalli. P. (2020) </a>.\n",
    "\n",
    "\n",
    "##### <ins>Detail of Classifiers Used</ins>\n",
    "\n",
    "Firstly, Niave-Bayes is a classifier which gives a conditional probability of one event occuring, given another event <a href=\"https://www.simplilearn.com/tutorials/machine-learning-tutorial/naive-bayes-classifier#:~:text=how%20it%20works.-,Understanding%20Naive%20Bayes%20Classifier,event%20A%20given%20event%20B.\" target=\"_top\">Banoula. M. (2022) </a>\n",
    "\n",
    "According to the authors, Naive-Bayes is an effective classifier to use for this study as it is a practical classifier for real and discrete data. As this data set contains all real and discrete data, then Naive-Bayes is a good choice for the study.  \n",
    "\n",
    "\n",
    "The second classifier used, Support Vector Machine (SVM) is a classifier that takes the data as an input and outputs a line or \n",
    "<a href=\"https://www.analyticsvidhya.com/blog/2021/03/beginners-guide-to-support-vector-machine-svm/#:~:text=A%20hyperplane%20is%20a%20decision,input%20features%20in%20the%20dataset.\" target=\"_top\">hyperplane</a> that separates the data into classes <a href=\"https://towardsdatascience.com/https-medium-com-pupalerushikesh-svm-f4b42800e989\" target=\"_top\">Pupale. R. (2018)</a>.\n",
    "\n",
    "Again, for this study, SVM is effective as it can seperate the input data into 2 Classes, Benign and Malignant. \n",
    "\n",
    "\n",
    "##### <ins>Training</ins>\n",
    "For this study, the dataset was divided 80/20 where 80% of the dataset was used training data and 20% was used as test data. This was carried out 10 times, testing 20% random data from the dataset and then taking the average accuracy from the 10 iterations.\n",
    "\n",
    "##### <ins>Findings of the study</ins>\n",
    "This Manoli. N.S & Padma. S.K (2017) study found that both of the classifiers were very accurate as they both had accuracy rates above 95%. The Naive Bayes Classifier scored an accuracy rate of 95.71% for the whole data (data where PCA was not applied) and 97.14% accuracy where the PCA feature was applied. However, the Support Vector Machine (SVM) was a little superior with a accuracy result of 97.14% for the whole data (data where PCA was not applied) and 97.86% accuracy where the PCA feature was applied. \n",
    "\n",
    "### <font color=darkblue><ins>Study 2</ins></font>\n",
    "##### <ins>Introduction</ins>\n",
    "<a href=\"https://www.journalbinet.com/uploads/2/1/0/0/21005390/67.02.09.2020_analysis_of_wisconsin_breast_cancer_original_dataset_using_data_mining_and_machine_learning_algorithms_for_breast_cancer_prediction.pdf\" target=\"_top\">Ahmed. T. et al (2020)</a>\n",
    " carried out a study titled *Analysis of Wisconsin Breast Cancer original dataset using data mining and machine learning algorithms for breast cancer prediction* on a number of different classifiers. Again, Naïve Bayes was one of their chosen classifiers. Others to note were Multilayer perceptron (MLP), J48 and Support vector machine (SVM).\n",
    "\n",
    "##### <ins>Detail of Classifiers Used</ins>\n",
    "\n",
    "In addition to the Naive-Bayes and (NB) and Support vector machine (SVM) classifiers already discussed under study 1 above, this study also looks at two more classifiers; Multilayer perceptron (MLP) and J48.\n",
    "\n",
    "MLP is a neural network which has three layers; an input layer, a hidden layer and an output layer. The data is transmitted from the input layer through the hidden layer (where the computations and operations are carried out on the data) to the output layer <a href=\"https://www.educative.io/answers/what-is-a-multi-layered-perceptron\" target=\"_top\">Educative, Inc (2022)</a>.\n",
    "\n",
    "J48, then is a algorithm that builds decision trees based  on a set of training data by using information entropy <a href=\"https://medium.com/@nilimakhanna1/j48-classification-c4-5-algorithm-in-a-nutshell-24c50d20658e\" target=\"_top\">Khanna.N. (2021)</a>.\n",
    "\n",
    "##### <ins>Training</ins>\n",
    "\n",
    "Initially, for this study, the authors used the full dataset for training and carried this out ten times. However, when working in more depth with the Niave-Bayes classifier, they carried out multiple different tests some using test/train split. \n",
    "\n",
    "##### <ins>Findings of the study</ins>\n",
    "The study found the Naïve Bayes to be the highest performing classifier with an accuracy rate of 97.2779%. Following this was the Multilayer Perceptron (MLP) Classifer with an accuracy rate of 96.1318%. The lowest scoring classifier in this study was the J48 classifier at 94.2693%. \n",
    "\n",
    "When they dug deeper into the Naïve Bayes classifier, they carried out different trials by removing a single feature (or attribute) at a time to establish how each attribute effected the classifiers performance. They found that by removing the *Single Epithelial Cell Size* attribute from the dataset, the classifier was most accurate. Their most accurate result came about by splitting the data into 85.5% train data and 14.65% test data. The outcome of this was that the classifier was 99.0099% accurate. \n",
    "\n",
    "Again, this study reveals that the Naive Bayes classifier is most effective and accuarate classifier from the the classifiers they studied. One thing to note here is that in this study the Principal Component Analysis (PCA) technique was not used. However, in their conclusion, they did refer to using PCA in future studies. Incorporating the PCA may have an impact on the accuracy of the Naive Bayes classifier.\n",
    "\n",
    "\n",
    "### <font color=darkblue><ins>Study 3</ins></font>\n",
    "##### <ins>Introduction</ins>\n",
    "<a href=\"https://ieeexplore.ieee.org/stamp/stamp.jsp?tp=&arnumber=6408508\" target=\"_top\">G. Salama et al. (2012)</a> published a paper titled *Experimental Comparison of Classifiers for Breast Cancer Diagnosis* in which they investigated the performance of a number of classifiers. They focused on decision tree (J48), Multi-LayerPerception (MLP), Naive Bayes (NB), Sequential Minimal Optimization (SMO), and Instance Based for K-Nearest neighbor (IBK). \n",
    "\n",
    "\n",
    "##### <ins>Detail of Classifiers Used</ins>\n",
    "Again, MLP, NB and J48 have already been explained above. However, this study worked with the following two additional classifiers: \n",
    "\n",
    "Sequential Minimal Optimization (SMO), is an algorithm used when training SVM algorithm <a href=\"https://en.wikipedia.org/wiki/Sequential_minimal_optimization\" target=\"_top\">Wikipedia. (2022)</a>. \n",
    "\n",
    "Instance Based for K-Nearest neighbor (IBK) is a classifier which predicts the outcome based on the k number of nearest neighbours of the data that has been inputted. \n",
    "\n",
    "<ins>Training</ins>\n",
    "The authors of this paper do not give detail of what training/testing data ratio they used for the classifiers. However, as well as looking that the classifiers on an individual basis, they also have looked at merging or *fusing* classifiers together to obtain more accurate results. \n",
    "\n",
    "##### <ins>Findings of the study</ins>\n",
    "By using a single classifier on it's own, they found that Sequential Minimal Optimization (SMO) classifier was the most accurate at an accuracy rate of 96.9957%, followed by the Naive Bayes (NB) classifier at 95.9943% accuracy. The decision tree (J48) was the least accurate of the classifiers tested at an accuracy of 95.1359%. \n",
    "\n",
    "However, they delved into their accuracy more by *fusing* or combining the classifiers together to create *multi-classifiers*. They found that by fusing SMO, IBK, NB and J48 classifiers, the overall accuracy was 97.2818% which was more accurate than using any of the classifiers individually. \n",
    "\n",
    "Furthermore, by implementing Principal Component Analysis (PCA) to combine related attributes and consequently reduce the number of input variables, they found their most accurate multi-classifier of all. This was a fusion of the J48 and MLP classifiers. This is interesting because originally, using the classifiers individually, the J48 and MLP were the two least accurate classifiers of those examined in the study. \n",
    "\n",
    "\n",
    "### <font color=darkblue><ins>Study 4</ins></font>\n",
    "##### <ins>Introduction</ins>\n",
    "A paper titled *Performance Analysis on Three Breast Cancer Datasets using Ensemble Classifiers Techniques* by <a href=\"file:///C:/Users/Admin/Downloads/kkuenjadmin,+8-23-20.pdf\" target=\"_top\">Arach. S. and Bouden. H. (2019)</a> also looked into classifiers used on the Wisconsin Breast Cancer Data Set. They looked into the accuracy of six classifiers; Bayesian networks (BN), Multi-LayerPerception (MLP), decision tree (J48), Sequential Minimal Optimization (SMO), Random Forest (RF) and \n",
    "Instance Based for K-Nearest neighbor (IBK).\n",
    "\n",
    "##### <ins>Detail of Classifiers Used</ins>\n",
    "The only new classifier in this study that we have not come across before is the Random Forest (RF) algorithm. Again similar to that of the J48 algorithm, RN is a algorithm that has numerous decision trees. The output generated is the class that has been selected by the majority of the decision trees <a href=\"https://en.wikipedia.org/wiki/Random_forest\" target=\"_top\">Wikipedia (2022)</a> \n",
    "\n",
    "\n",
    "<ins>Training</ins>\n",
    "Training and testing on the classifiers was based on cross validation of 10-fold as a method of testing. *Cross validation of 10-fold*  means that the dataset is divided randomly into 10 parts. Nine of the parts are used for training and one part is used for testing. The process is then repeated 10 times so a different tenth is tested <a href=\"https://www.kdnuggets.com/2018/01/training-test-sets-cross-validation.html\" target=\"_top\">Zacharski. R. (2022)</a>  \n",
    "\n",
    "In their study, the authors also incorporated a feature selection method called **<a href=\"https://www.scikit-yb.org/en/latest/api/model_selection/rfecv.html\" target=\"_top\">Recursive Feature Elimination (RFE)</a>** which eliminates the least significant features (attributes) until the correct number of features is reached <a href=\"https://www.scikit-yb.org/en/latest/api/model_selection/rfecv.html\" target=\"_top\">The scikit-yb developers (2019)</a>. \n",
    "\n",
    "##### <ins>Findings of the study</ins>\n",
    "The results of the study show that used individually, the Baysian Networks (BN) classifier was the most accurate at an accuracy rate of 97.28%. The least accurate classifier was the decision tree (J48) at 95.15% accuracy. \n",
    "Combining (BN) with other classifiers gave interesting results. Combining BN with SMO resulted in a decrease in the accuracy, and the similarly fusing BN with MLP reduced the accuracy also. Combining 4 classifiers; BN RF SMO and IBK increased accuracy to 97.99%. These tests also included the Principal Component Analysis (PCA).\n",
    "\n",
    "Their study found that the removal of the Recursive Feature Elimination (RFE), feature selection method reduced the accuracy of the classifiers across the board, both individually and as multi-classifiers.\n",
    "\n",
    "\n",
    "### <font color=darkblue><ins>Study 5</ins></font>\n",
    "##### <ins>Introduction</ins>\n",
    "<a href=\"https://ijnaa.semnan.ac.ir/article_5965_a1ca78998e8760f2915afc8b1d037e64.pdf\" target=\"_top\">Al-Joda. A.A, et al. (2021).</a> comprised a study called *Comparison of classification techniques based on medical datasets* in which they focused on three classifiers; Support Vector Machine (SVM), Adaptive Boosting (AdaBoost) and  Random forests (RF). They used these classifiers on two datasets, one of which being the Wisconsin Breast Cancer Data Set.\n",
    "\n",
    "##### <ins>Detail of Classifiers Used</ins>\n",
    "Al-Joda. A.A, et al. (2021) have used a classifier that we have not yet come across and this is the Adaptive Boosting (AdaBoost) algorithm. This is an algorithm that creates a stronger classifier from a number of weaker classifiers (mostly decision tree algorithms) <a href=\"https://machinelearningmastery.com/boosting-and-adaboost-for-machine-learning/\" target=\"_top\">Brownlee. J. (2016).</a>\n",
    "\n",
    "\n",
    "##### <ins>Training</ins>\n",
    "Again, this study used the <a href=\"https://www.kdnuggets.com/2018/01/training-test-sets-cross-validation.html\" target=\"_top\">10 fold cross-validation</a> method for training and testing. \n",
    "\n",
    "\n",
    "##### <ins>Findings of the study</ins>\n",
    "Their findings showed that the Adaptive Boosting (AdaBoost) was the most accurate of the three classifiers used with an accuracy of 100%. The other two classifiers; Support Vector Machine (SVM) and Random forests (RF) were also found to be very accurate at a rate of 0.976% accuracy. \n",
    "\n",
    "\n",
    "### <font color=darkblue><ins>Study 6</ins></font>\n",
    "##### <ins>Introduction</ins>\n",
    "A study by <a href=\"file:///C:/Users/Admin/Downloads/monther,+12300-Article+Text-36825-1-6-20210211%20(1).pdf\" target=\"_top\">Abdulkareema S.A and Abdulkareem Z.O.(2021).</a> titled *An Evaluation of the Wisconsin Breast Cancer Dataset using Ensemble Classifiers and RFE Feature Selection Technique* focuses on two classifiers, namely; Random Forest (RF) and eXtreme Gradient Boost (XGBoost) along with the inclusion of a feature selection technique, Recursive Feature Elimination (RFE).\n",
    "\n",
    "##### <ins>Detail of Classifiers Used</ins>\n",
    "RF has already been explained above in Study 4. eXtreme Gradient Boost (XGBoost). Again this is a strong classifier generated from several weaker classifiers (mostly decision trees) <a href=\"https://www.mygreatlearning.com/blog/xgboost-algorithm/\" target=\"_top\">Great Learning Team.(2022).</a> \n",
    "\n",
    "##### <ins>Training</ins>\n",
    "For the study the authors split the data 80/20, where 80% of the dataset was training data and 20% of the data was testing data.\n",
    "\n",
    "##### <ins>Findings of the study</ins>\n",
    "Their work shows that again both of the classifiers are quite accurate with accuracy rates of 97.07% and 98.53% for the RF and XGBoost respectively. This part of the experiment did not include the feature selection technique and hence all of the features(attributes) were inlcuded in the calculation.\n",
    "\n",
    "However with the inclusion of the Recursive Feature Elimination feature selection technique, the results improved further. The accuracy of the RF classifier increased to 98.05% and the accuracy of the XGBoost increased to 99.02%. \n",
    "\n",
    "The authors provided a \n",
    "**<a href=\"https://www.analyticsvidhya.com/blog/2020/04/confusion-matrix-machine-learning/\" target=\"_top\">confusion matrix.</a>**\n",
    "which gives results of the XGBoost classifier and the RFE feature selection technique. This matrix shows that the XGBoost classifier along with the RFE technique predicted all of the malignant data correctly and was also very accuarte with the benign data, having predicted 2 cases to be malignant but were actually benign.\n",
    "\n",
    "\n",
    "### <font color=darkblue><ins>Study 7</ins></font>\n",
    "##### <ins>Introduction</ins>\n",
    "A study titled *Breast Cancer Classification Using Machine Learning* <a href=\"https://ieeexplore.ieee.org/stamp/stamp.jsp?tp=&arnumber=8391453\" target=\"_top\">M. Amrane. et al. (2018)</a> focused on k-Nearest Neighbors (KNN) and Naive Bayes (NB) classifiers. \n",
    "\n",
    "##### <ins>Detail of Classifiers Used</ins>\n",
    "Explanations of k-Nearest Neighbors (KNN) and Naive Bayes (NB) have already been provided in Study 3 and Study 1 above.\n",
    "\n",
    "##### <ins>Training</ins>\n",
    "For the KNN classifier, there was no training stage as they predicted the outcome of a new instance  by calculating the <a href=\"https://en.wikipedia.org/wiki/Euclidean_distance\" target=\"_top\">Euclidean distance</a> between the instance and all of thr points on the training set. \n",
    "\n",
    "For the Naive Bayes algorithm, they divided the dataset into a training set and a test set. The training set was then divided into two further sets where *D* represents the presence of a tumor. *D* was then divided into two classes malignant(4) and benign(2). *T* is the test. \n",
    "\n",
    "This study did not include any feature selection technique or any other form of technique to cut down or couple up the features. \n",
    "\n",
    "##### <ins>Findings of the study</ins>\n",
    "Again this study was conclusive in its findings that both of the classifiers were effective and accurate. The KNN classifier was just a little ahead of the NB classifier with rates of 97.51% and 96.19% respectively. However, the authors did conclude that if the dataset had been bigger, KNN would not have been as efficient as the algorithm is more complex and would take longer to run. \n",
    "\n",
    "\n",
    "### <font color=darkblue><ins>Conclusion</ins></font>\n",
    "The above findings show that there are may different classifiers used in machine learning, most of which are quite accurate. \n",
    "\n",
    "    \n",
    "The most common classifier throughout the literature was the Naive Bayes algortithm which scored well in terms of accuracy across all of the studies that it was used in. Other strong classifiers to note are the Support Vector Machine (SVM) and the Multi-LayerPerception (MLP). \n",
    "    \n",
    "In study 3, the decision tree (J48) showed to be a little weaker in terms of accuaracy but when combined with other classifiers it contributed to make a stronger classifier over all. Also, the use of the Principal Component Analysis (PCA) made the J48 algorithm stronger. My research above from study 5 and study 6, also backs up that on it's own J48 is a weaker algortihm as the Adaptive Boosting (AdaBoost) Gradient Boost (XGBoost) are stronger classifiers which are made up of weaker classifiers such as decision trees. "
   ]
  },
  {
   "cell_type": "markdown",
   "id": "403d1673",
   "metadata": {},
   "source": [
    "### <ins><font color=darkblue>Cleaning the Dataframe</font></ins>\n",
    "\n",
    "According to <a href=\"https://archive.ics.uci.edu/ml/datasets/breast+cancer+wisconsin+(original)\" target=\"_top\">UCI Machine Learning Repository</a>, the Original Wisconsin Breast Cancer Database contains 16 missing values. From my research on the dataset for my literature review below, I learned that the 16 missing values are under the *bare nucleoli* attribute. \n",
    "\n",
    "I looked into replacing the missing values with the mean value of the attribute but my findings suggested that using the mean as a replacement for the missing values wasn't a good option. Two examples of findings where the it was recommended that the mean not be used are as follows: <a href=\"https://vitalflux.com/pandas-impute-missing-values-mean-median-mode/\" target=\"_top\">Kumar. A. (2021)</a> and <a href=\"https://www.theanalysisfactor.com/mean-imputation/\" target=\"_top\">Grace-Martin. K. (2022)</a>.\n",
    "\n",
    "In order to have a more accurate dataframe to do my analysis on, I chose to remove any row that had any missing data. I have completed this in the next few lines of code below.\n",
    "\n",
    "Adapting code from <a href=\"https://www.geeksforgeeks.org/use-of-na_values-parameter-in-read_csv-function-of-pandas-in-python/\" target=\"_top\">geeksforgeeks.(2020)</a>, I firstly instructed pandas to make any value of **?** equal to a **NaN** value using code ``na_values =[\"?\"]``. \n",
    "\n",
    "Next, using code from <a href=\"https://www.sharpsightlabs.com/blog/pandas-dropna/\" target=\"_top\">Ebner. J. (2019)</a> I dropped any rows that contained a **NaN** value. I used the ``inplace = True`` parameter to modify the dataframe so that any rows containing **NaN** values were dropped from the dataframe. "
   ]
  },
  {
   "cell_type": "code",
   "execution_count": 15,
   "id": "22609101",
   "metadata": {},
   "outputs": [],
   "source": [
    "df = pd.read_csv (\"https://archive.ics.uci.edu/ml/machine-learning-databases/breast-cancer-wisconsin/breast-cancer-wisconsin.data\",\n",
    "          names = ['ID','Clump_Thickness','Uniformity_of_Cell_Size', 'Uniformity_of_Cell_Shape', 'Marginal_Adhesion', \n",
    "                  'Single_Epithelial_Cell_Size', 'Bare_Nuclei', 'Bland_Chromatin', 'Normal_Nucleoli', 'Mitoses', 'Class'],na_values ='?')"
   ]
  },
  {
   "cell_type": "code",
   "execution_count": 16,
   "id": "a07cc6fd",
   "metadata": {},
   "outputs": [
    {
     "data": {
      "text/html": [
       "<div>\n",
       "<style scoped>\n",
       "    .dataframe tbody tr th:only-of-type {\n",
       "        vertical-align: middle;\n",
       "    }\n",
       "\n",
       "    .dataframe tbody tr th {\n",
       "        vertical-align: top;\n",
       "    }\n",
       "\n",
       "    .dataframe thead th {\n",
       "        text-align: right;\n",
       "    }\n",
       "</style>\n",
       "<table border=\"1\" class=\"dataframe\">\n",
       "  <thead>\n",
       "    <tr style=\"text-align: right;\">\n",
       "      <th></th>\n",
       "      <th>ID</th>\n",
       "      <th>Clump_Thickness</th>\n",
       "      <th>Uniformity_of_Cell_Size</th>\n",
       "      <th>Uniformity_of_Cell_Shape</th>\n",
       "      <th>Marginal_Adhesion</th>\n",
       "      <th>Single_Epithelial_Cell_Size</th>\n",
       "      <th>Bare_Nuclei</th>\n",
       "      <th>Bland_Chromatin</th>\n",
       "      <th>Normal_Nucleoli</th>\n",
       "      <th>Mitoses</th>\n",
       "      <th>Class</th>\n",
       "    </tr>\n",
       "  </thead>\n",
       "  <tbody>\n",
       "    <tr>\n",
       "      <th>0</th>\n",
       "      <td>1000025</td>\n",
       "      <td>5</td>\n",
       "      <td>1</td>\n",
       "      <td>1</td>\n",
       "      <td>1</td>\n",
       "      <td>2</td>\n",
       "      <td>1.0</td>\n",
       "      <td>3</td>\n",
       "      <td>1</td>\n",
       "      <td>1</td>\n",
       "      <td>2</td>\n",
       "    </tr>\n",
       "    <tr>\n",
       "      <th>1</th>\n",
       "      <td>1002945</td>\n",
       "      <td>5</td>\n",
       "      <td>4</td>\n",
       "      <td>4</td>\n",
       "      <td>5</td>\n",
       "      <td>7</td>\n",
       "      <td>10.0</td>\n",
       "      <td>3</td>\n",
       "      <td>2</td>\n",
       "      <td>1</td>\n",
       "      <td>2</td>\n",
       "    </tr>\n",
       "    <tr>\n",
       "      <th>2</th>\n",
       "      <td>1015425</td>\n",
       "      <td>3</td>\n",
       "      <td>1</td>\n",
       "      <td>1</td>\n",
       "      <td>1</td>\n",
       "      <td>2</td>\n",
       "      <td>2.0</td>\n",
       "      <td>3</td>\n",
       "      <td>1</td>\n",
       "      <td>1</td>\n",
       "      <td>2</td>\n",
       "    </tr>\n",
       "    <tr>\n",
       "      <th>3</th>\n",
       "      <td>1016277</td>\n",
       "      <td>6</td>\n",
       "      <td>8</td>\n",
       "      <td>8</td>\n",
       "      <td>1</td>\n",
       "      <td>3</td>\n",
       "      <td>4.0</td>\n",
       "      <td>3</td>\n",
       "      <td>7</td>\n",
       "      <td>1</td>\n",
       "      <td>2</td>\n",
       "    </tr>\n",
       "    <tr>\n",
       "      <th>4</th>\n",
       "      <td>1017023</td>\n",
       "      <td>4</td>\n",
       "      <td>1</td>\n",
       "      <td>1</td>\n",
       "      <td>3</td>\n",
       "      <td>2</td>\n",
       "      <td>1.0</td>\n",
       "      <td>3</td>\n",
       "      <td>1</td>\n",
       "      <td>1</td>\n",
       "      <td>2</td>\n",
       "    </tr>\n",
       "    <tr>\n",
       "      <th>...</th>\n",
       "      <td>...</td>\n",
       "      <td>...</td>\n",
       "      <td>...</td>\n",
       "      <td>...</td>\n",
       "      <td>...</td>\n",
       "      <td>...</td>\n",
       "      <td>...</td>\n",
       "      <td>...</td>\n",
       "      <td>...</td>\n",
       "      <td>...</td>\n",
       "      <td>...</td>\n",
       "    </tr>\n",
       "    <tr>\n",
       "      <th>694</th>\n",
       "      <td>776715</td>\n",
       "      <td>3</td>\n",
       "      <td>1</td>\n",
       "      <td>1</td>\n",
       "      <td>1</td>\n",
       "      <td>3</td>\n",
       "      <td>2.0</td>\n",
       "      <td>1</td>\n",
       "      <td>1</td>\n",
       "      <td>1</td>\n",
       "      <td>2</td>\n",
       "    </tr>\n",
       "    <tr>\n",
       "      <th>695</th>\n",
       "      <td>841769</td>\n",
       "      <td>2</td>\n",
       "      <td>1</td>\n",
       "      <td>1</td>\n",
       "      <td>1</td>\n",
       "      <td>2</td>\n",
       "      <td>1.0</td>\n",
       "      <td>1</td>\n",
       "      <td>1</td>\n",
       "      <td>1</td>\n",
       "      <td>2</td>\n",
       "    </tr>\n",
       "    <tr>\n",
       "      <th>696</th>\n",
       "      <td>888820</td>\n",
       "      <td>5</td>\n",
       "      <td>10</td>\n",
       "      <td>10</td>\n",
       "      <td>3</td>\n",
       "      <td>7</td>\n",
       "      <td>3.0</td>\n",
       "      <td>8</td>\n",
       "      <td>10</td>\n",
       "      <td>2</td>\n",
       "      <td>4</td>\n",
       "    </tr>\n",
       "    <tr>\n",
       "      <th>697</th>\n",
       "      <td>897471</td>\n",
       "      <td>4</td>\n",
       "      <td>8</td>\n",
       "      <td>6</td>\n",
       "      <td>4</td>\n",
       "      <td>3</td>\n",
       "      <td>4.0</td>\n",
       "      <td>10</td>\n",
       "      <td>6</td>\n",
       "      <td>1</td>\n",
       "      <td>4</td>\n",
       "    </tr>\n",
       "    <tr>\n",
       "      <th>698</th>\n",
       "      <td>897471</td>\n",
       "      <td>4</td>\n",
       "      <td>8</td>\n",
       "      <td>8</td>\n",
       "      <td>5</td>\n",
       "      <td>4</td>\n",
       "      <td>5.0</td>\n",
       "      <td>10</td>\n",
       "      <td>4</td>\n",
       "      <td>1</td>\n",
       "      <td>4</td>\n",
       "    </tr>\n",
       "  </tbody>\n",
       "</table>\n",
       "<p>683 rows × 11 columns</p>\n",
       "</div>"
      ],
      "text/plain": [
       "          ID  Clump_Thickness  Uniformity_of_Cell_Size  \\\n",
       "0    1000025                5                        1   \n",
       "1    1002945                5                        4   \n",
       "2    1015425                3                        1   \n",
       "3    1016277                6                        8   \n",
       "4    1017023                4                        1   \n",
       "..       ...              ...                      ...   \n",
       "694   776715                3                        1   \n",
       "695   841769                2                        1   \n",
       "696   888820                5                       10   \n",
       "697   897471                4                        8   \n",
       "698   897471                4                        8   \n",
       "\n",
       "     Uniformity_of_Cell_Shape  Marginal_Adhesion  Single_Epithelial_Cell_Size  \\\n",
       "0                           1                  1                            2   \n",
       "1                           4                  5                            7   \n",
       "2                           1                  1                            2   \n",
       "3                           8                  1                            3   \n",
       "4                           1                  3                            2   \n",
       "..                        ...                ...                          ...   \n",
       "694                         1                  1                            3   \n",
       "695                         1                  1                            2   \n",
       "696                        10                  3                            7   \n",
       "697                         6                  4                            3   \n",
       "698                         8                  5                            4   \n",
       "\n",
       "     Bare_Nuclei  Bland_Chromatin  Normal_Nucleoli  Mitoses  Class  \n",
       "0            1.0                3                1        1      2  \n",
       "1           10.0                3                2        1      2  \n",
       "2            2.0                3                1        1      2  \n",
       "3            4.0                3                7        1      2  \n",
       "4            1.0                3                1        1      2  \n",
       "..           ...              ...              ...      ...    ...  \n",
       "694          2.0                1                1        1      2  \n",
       "695          1.0                1                1        1      2  \n",
       "696          3.0                8               10        2      4  \n",
       "697          4.0               10                6        1      4  \n",
       "698          5.0               10                4        1      4  \n",
       "\n",
       "[683 rows x 11 columns]"
      ]
     },
     "execution_count": 16,
     "metadata": {},
     "output_type": "execute_result"
    }
   ],
   "source": [
    "df.dropna(inplace = True)\n",
    "df"
   ]
  },
  {
   "cell_type": "markdown",
   "id": "e9d3de6c",
   "metadata": {},
   "source": [
    "## <font color=darkblue>Statistical Analysis of the Dataset</font>\n",
    "***\n",
    "\n",
    "Having cleaned the dataframe so that there are no missing values, this section focuses on carrying out some statistical analysis on it. "
   ]
  },
  {
   "cell_type": "markdown",
   "id": "ee032d84",
   "metadata": {},
   "source": [
    "### <font color=darkblue><ins>df.shape</ins></font>\n",
    "Using the ``df.shape`` function below, we can see that there are now 683 instances (rows of data) and the dataframe contains 11 columns (attributes). This is in line with the work I had carried out above to cleanse the dataset as I removed 16 rows of data from the original dataframe of 699 rows. "
   ]
  },
  {
   "cell_type": "code",
   "execution_count": 5,
   "id": "ff855666",
   "metadata": {},
   "outputs": [
    {
     "data": {
      "text/plain": [
       "(683, 11)"
      ]
     },
     "execution_count": 5,
     "metadata": {},
     "output_type": "execute_result"
    }
   ],
   "source": [
    "# To get the shape of the dataframe\n",
    "df.shape"
   ]
  },
  {
   "cell_type": "markdown",
   "id": "0af82f9a",
   "metadata": {},
   "source": [
    "### <font color=darkblue><ins>df.describe()</ins></font>\n",
    "Below, the ``describe()`` function also gives the total count of rows of data along with the the mean, standard deviation, minimum values, maximum values and 25th 50th and 75th percentile values of the data."
   ]
  },
  {
   "cell_type": "code",
   "execution_count": 6,
   "id": "713514b9",
   "metadata": {},
   "outputs": [
    {
     "data": {
      "text/html": [
       "<div>\n",
       "<style scoped>\n",
       "    .dataframe tbody tr th:only-of-type {\n",
       "        vertical-align: middle;\n",
       "    }\n",
       "\n",
       "    .dataframe tbody tr th {\n",
       "        vertical-align: top;\n",
       "    }\n",
       "\n",
       "    .dataframe thead th {\n",
       "        text-align: right;\n",
       "    }\n",
       "</style>\n",
       "<table border=\"1\" class=\"dataframe\">\n",
       "  <thead>\n",
       "    <tr style=\"text-align: right;\">\n",
       "      <th></th>\n",
       "      <th>ID</th>\n",
       "      <th>Clump_Thickness</th>\n",
       "      <th>Uniformity_of_Cell_Size</th>\n",
       "      <th>Uniformity_of_Cell_Shape</th>\n",
       "      <th>Marginal_Adhesion</th>\n",
       "      <th>Single_Epithelial_Cell_Size</th>\n",
       "      <th>Bare_Nuclei</th>\n",
       "      <th>Bland_Chromatin</th>\n",
       "      <th>Normal_Nucleoli</th>\n",
       "      <th>Mitoses</th>\n",
       "      <th>Class</th>\n",
       "    </tr>\n",
       "  </thead>\n",
       "  <tbody>\n",
       "    <tr>\n",
       "      <th>count</th>\n",
       "      <td>6.830000e+02</td>\n",
       "      <td>683.000000</td>\n",
       "      <td>683.000000</td>\n",
       "      <td>683.000000</td>\n",
       "      <td>683.000000</td>\n",
       "      <td>683.000000</td>\n",
       "      <td>683.000000</td>\n",
       "      <td>683.000000</td>\n",
       "      <td>683.000000</td>\n",
       "      <td>683.000000</td>\n",
       "      <td>683.000000</td>\n",
       "    </tr>\n",
       "    <tr>\n",
       "      <th>mean</th>\n",
       "      <td>1.076720e+06</td>\n",
       "      <td>4.442167</td>\n",
       "      <td>3.150805</td>\n",
       "      <td>3.215227</td>\n",
       "      <td>2.830161</td>\n",
       "      <td>3.234261</td>\n",
       "      <td>3.544656</td>\n",
       "      <td>3.445095</td>\n",
       "      <td>2.869693</td>\n",
       "      <td>1.603221</td>\n",
       "      <td>2.699854</td>\n",
       "    </tr>\n",
       "    <tr>\n",
       "      <th>std</th>\n",
       "      <td>6.206440e+05</td>\n",
       "      <td>2.820761</td>\n",
       "      <td>3.065145</td>\n",
       "      <td>2.988581</td>\n",
       "      <td>2.864562</td>\n",
       "      <td>2.223085</td>\n",
       "      <td>3.643857</td>\n",
       "      <td>2.449697</td>\n",
       "      <td>3.052666</td>\n",
       "      <td>1.732674</td>\n",
       "      <td>0.954592</td>\n",
       "    </tr>\n",
       "    <tr>\n",
       "      <th>min</th>\n",
       "      <td>6.337500e+04</td>\n",
       "      <td>1.000000</td>\n",
       "      <td>1.000000</td>\n",
       "      <td>1.000000</td>\n",
       "      <td>1.000000</td>\n",
       "      <td>1.000000</td>\n",
       "      <td>1.000000</td>\n",
       "      <td>1.000000</td>\n",
       "      <td>1.000000</td>\n",
       "      <td>1.000000</td>\n",
       "      <td>2.000000</td>\n",
       "    </tr>\n",
       "    <tr>\n",
       "      <th>25%</th>\n",
       "      <td>8.776170e+05</td>\n",
       "      <td>2.000000</td>\n",
       "      <td>1.000000</td>\n",
       "      <td>1.000000</td>\n",
       "      <td>1.000000</td>\n",
       "      <td>2.000000</td>\n",
       "      <td>1.000000</td>\n",
       "      <td>2.000000</td>\n",
       "      <td>1.000000</td>\n",
       "      <td>1.000000</td>\n",
       "      <td>2.000000</td>\n",
       "    </tr>\n",
       "    <tr>\n",
       "      <th>50%</th>\n",
       "      <td>1.171795e+06</td>\n",
       "      <td>4.000000</td>\n",
       "      <td>1.000000</td>\n",
       "      <td>1.000000</td>\n",
       "      <td>1.000000</td>\n",
       "      <td>2.000000</td>\n",
       "      <td>1.000000</td>\n",
       "      <td>3.000000</td>\n",
       "      <td>1.000000</td>\n",
       "      <td>1.000000</td>\n",
       "      <td>2.000000</td>\n",
       "    </tr>\n",
       "    <tr>\n",
       "      <th>75%</th>\n",
       "      <td>1.238705e+06</td>\n",
       "      <td>6.000000</td>\n",
       "      <td>5.000000</td>\n",
       "      <td>5.000000</td>\n",
       "      <td>4.000000</td>\n",
       "      <td>4.000000</td>\n",
       "      <td>6.000000</td>\n",
       "      <td>5.000000</td>\n",
       "      <td>4.000000</td>\n",
       "      <td>1.000000</td>\n",
       "      <td>4.000000</td>\n",
       "    </tr>\n",
       "    <tr>\n",
       "      <th>max</th>\n",
       "      <td>1.345435e+07</td>\n",
       "      <td>10.000000</td>\n",
       "      <td>10.000000</td>\n",
       "      <td>10.000000</td>\n",
       "      <td>10.000000</td>\n",
       "      <td>10.000000</td>\n",
       "      <td>10.000000</td>\n",
       "      <td>10.000000</td>\n",
       "      <td>10.000000</td>\n",
       "      <td>10.000000</td>\n",
       "      <td>4.000000</td>\n",
       "    </tr>\n",
       "  </tbody>\n",
       "</table>\n",
       "</div>"
      ],
      "text/plain": [
       "                 ID  Clump_Thickness  Uniformity_of_Cell_Size  \\\n",
       "count  6.830000e+02       683.000000               683.000000   \n",
       "mean   1.076720e+06         4.442167                 3.150805   \n",
       "std    6.206440e+05         2.820761                 3.065145   \n",
       "min    6.337500e+04         1.000000                 1.000000   \n",
       "25%    8.776170e+05         2.000000                 1.000000   \n",
       "50%    1.171795e+06         4.000000                 1.000000   \n",
       "75%    1.238705e+06         6.000000                 5.000000   \n",
       "max    1.345435e+07        10.000000                10.000000   \n",
       "\n",
       "       Uniformity_of_Cell_Shape  Marginal_Adhesion  \\\n",
       "count                683.000000         683.000000   \n",
       "mean                   3.215227           2.830161   \n",
       "std                    2.988581           2.864562   \n",
       "min                    1.000000           1.000000   \n",
       "25%                    1.000000           1.000000   \n",
       "50%                    1.000000           1.000000   \n",
       "75%                    5.000000           4.000000   \n",
       "max                   10.000000          10.000000   \n",
       "\n",
       "       Single_Epithelial_Cell_Size  Bare_Nuclei  Bland_Chromatin  \\\n",
       "count                   683.000000   683.000000       683.000000   \n",
       "mean                      3.234261     3.544656         3.445095   \n",
       "std                       2.223085     3.643857         2.449697   \n",
       "min                       1.000000     1.000000         1.000000   \n",
       "25%                       2.000000     1.000000         2.000000   \n",
       "50%                       2.000000     1.000000         3.000000   \n",
       "75%                       4.000000     6.000000         5.000000   \n",
       "max                      10.000000    10.000000        10.000000   \n",
       "\n",
       "       Normal_Nucleoli     Mitoses       Class  \n",
       "count       683.000000  683.000000  683.000000  \n",
       "mean          2.869693    1.603221    2.699854  \n",
       "std           3.052666    1.732674    0.954592  \n",
       "min           1.000000    1.000000    2.000000  \n",
       "25%           1.000000    1.000000    2.000000  \n",
       "50%           1.000000    1.000000    2.000000  \n",
       "75%           4.000000    1.000000    4.000000  \n",
       "max          10.000000   10.000000    4.000000  "
      ]
     },
     "execution_count": 6,
     "metadata": {},
     "output_type": "execute_result"
    }
   ],
   "source": [
    "# Describe the dataframe\n",
    "df.describe()"
   ]
  },
  {
   "cell_type": "markdown",
   "id": "8ca06dd9",
   "metadata": {},
   "source": [
    "### <font color=darkblue><ins>Pariplots</ins></font>\n",
    "Using the <a href=\"https://seaborn.pydata.org/generated/seaborn.pairplot.html\" target=\"_top\">seaborn.pairplot()</a> function, I have genertaed the below pairplot which gives a visual summary of the data. Using the <a href=\"https://pandas.pydata.org/docs/reference/api/pandas.DataFrame.iloc.html\" target=\"_top\">iloc[]</a> function, I selected all of the rows in the dataframe and column indexes 1 through to index 11. The dataframe only contains column indexes 0 to 10 but as the iloc function does not include the last index inputted, I needed to include index 11 in my code so that index 10 was included in the pairplot. \n",
    "\n",
    "\n",
    "It takes each attribute and plots it against each of the other attributes. Each dot on the plot represents a row (instance) in the dataframe. So for each instance, each attribute is plotted against all of the other attributes. \n",
    "\n",
    "The pairplot shows that there is a significant relationship or correlation between the varaibles as it would be possible to draw a straight line through the data. The data also appears to be positively correlated as the value of one variable increases, so does the value of the other.  \n",
    "\n",
    "Using the ``hue`` on the class attribute adds colour to the pairplot based on the two types of class, malignant (4) represented by the dark purple dots and benign (2) represented by the light purple dots. This gives a clearer picture of the data. The darker purple dots tend to be clustered around the top and right of the plots, while the lighter coloured dots appear mostly around the bottom and left of the plots. This indicates the the higher the value of each of the input values, the more malignant cases there are and the lower the value of the input values, the more benign cases there are. "
   ]
  },
  {
   "cell_type": "code",
   "execution_count": 7,
   "id": "f3ff70ce",
   "metadata": {},
   "outputs": [
    {
     "ename": "KeyError",
     "evalue": "'class'",
     "output_type": "error",
     "traceback": [
      "\u001b[1;31m---------------------------------------------------------------------------\u001b[0m",
      "\u001b[1;31mKeyError\u001b[0m                                  Traceback (most recent call last)",
      "File \u001b[1;32m~\\anaconda3\\lib\\site-packages\\pandas\\core\\indexes\\base.py:3629\u001b[0m, in \u001b[0;36mIndex.get_loc\u001b[1;34m(self, key, method, tolerance)\u001b[0m\n\u001b[0;32m   3628\u001b[0m \u001b[38;5;28;01mtry\u001b[39;00m:\n\u001b[1;32m-> 3629\u001b[0m     \u001b[38;5;28;01mreturn\u001b[39;00m \u001b[38;5;28;43mself\u001b[39;49m\u001b[38;5;241;43m.\u001b[39;49m\u001b[43m_engine\u001b[49m\u001b[38;5;241;43m.\u001b[39;49m\u001b[43mget_loc\u001b[49m\u001b[43m(\u001b[49m\u001b[43mcasted_key\u001b[49m\u001b[43m)\u001b[49m\n\u001b[0;32m   3630\u001b[0m \u001b[38;5;28;01mexcept\u001b[39;00m \u001b[38;5;167;01mKeyError\u001b[39;00m \u001b[38;5;28;01mas\u001b[39;00m err:\n",
      "File \u001b[1;32m~\\anaconda3\\lib\\site-packages\\pandas\\_libs\\index.pyx:136\u001b[0m, in \u001b[0;36mpandas._libs.index.IndexEngine.get_loc\u001b[1;34m()\u001b[0m\n",
      "File \u001b[1;32m~\\anaconda3\\lib\\site-packages\\pandas\\_libs\\index.pyx:163\u001b[0m, in \u001b[0;36mpandas._libs.index.IndexEngine.get_loc\u001b[1;34m()\u001b[0m\n",
      "File \u001b[1;32mpandas\\_libs\\hashtable_class_helper.pxi:5198\u001b[0m, in \u001b[0;36mpandas._libs.hashtable.PyObjectHashTable.get_item\u001b[1;34m()\u001b[0m\n",
      "File \u001b[1;32mpandas\\_libs\\hashtable_class_helper.pxi:5206\u001b[0m, in \u001b[0;36mpandas._libs.hashtable.PyObjectHashTable.get_item\u001b[1;34m()\u001b[0m\n",
      "\u001b[1;31mKeyError\u001b[0m: 'class'",
      "\nThe above exception was the direct cause of the following exception:\n",
      "\u001b[1;31mKeyError\u001b[0m                                  Traceback (most recent call last)",
      "Cell \u001b[1;32mIn[7], line 1\u001b[0m\n\u001b[1;32m----> 1\u001b[0m \u001b[43msns\u001b[49m\u001b[38;5;241;43m.\u001b[39;49m\u001b[43mpairplot\u001b[49m\u001b[43m(\u001b[49m\u001b[43mdf\u001b[49m\u001b[38;5;241;43m.\u001b[39;49m\u001b[43miloc\u001b[49m\u001b[43m[\u001b[49m\u001b[43m:\u001b[49m\u001b[43m,\u001b[49m\u001b[38;5;241;43m1\u001b[39;49m\u001b[43m:\u001b[49m\u001b[38;5;241;43m11\u001b[39;49m\u001b[43m]\u001b[49m\u001b[43m,\u001b[49m\u001b[43m \u001b[49m\u001b[43mhue\u001b[49m\u001b[43m \u001b[49m\u001b[38;5;241;43m=\u001b[39;49m\u001b[38;5;124;43m'\u001b[39;49m\u001b[38;5;124;43mclass\u001b[39;49m\u001b[38;5;124;43m'\u001b[39;49m\u001b[43m)\u001b[49m\n\u001b[0;32m      2\u001b[0m plt\u001b[38;5;241m.\u001b[39mplot()\n\u001b[0;32m      3\u001b[0m plt\u001b[38;5;241m.\u001b[39mshow()\n",
      "File \u001b[1;32m~\\anaconda3\\lib\\site-packages\\seaborn\\axisgrid.py:2114\u001b[0m, in \u001b[0;36mpairplot\u001b[1;34m(data, hue, hue_order, palette, vars, x_vars, y_vars, kind, diag_kind, markers, height, aspect, corner, dropna, plot_kws, diag_kws, grid_kws, size)\u001b[0m\n\u001b[0;32m   2112\u001b[0m \u001b[38;5;66;03m# Set up the PairGrid\u001b[39;00m\n\u001b[0;32m   2113\u001b[0m grid_kws\u001b[38;5;241m.\u001b[39msetdefault(\u001b[38;5;124m\"\u001b[39m\u001b[38;5;124mdiag_sharey\u001b[39m\u001b[38;5;124m\"\u001b[39m, diag_kind \u001b[38;5;241m==\u001b[39m \u001b[38;5;124m\"\u001b[39m\u001b[38;5;124mhist\u001b[39m\u001b[38;5;124m\"\u001b[39m)\n\u001b[1;32m-> 2114\u001b[0m grid \u001b[38;5;241m=\u001b[39m PairGrid(data, \u001b[38;5;28mvars\u001b[39m\u001b[38;5;241m=\u001b[39m\u001b[38;5;28mvars\u001b[39m, x_vars\u001b[38;5;241m=\u001b[39mx_vars, y_vars\u001b[38;5;241m=\u001b[39my_vars, hue\u001b[38;5;241m=\u001b[39mhue,\n\u001b[0;32m   2115\u001b[0m                 hue_order\u001b[38;5;241m=\u001b[39mhue_order, palette\u001b[38;5;241m=\u001b[39mpalette, corner\u001b[38;5;241m=\u001b[39mcorner,\n\u001b[0;32m   2116\u001b[0m                 height\u001b[38;5;241m=\u001b[39mheight, aspect\u001b[38;5;241m=\u001b[39maspect, dropna\u001b[38;5;241m=\u001b[39mdropna, \u001b[38;5;241m*\u001b[39m\u001b[38;5;241m*\u001b[39mgrid_kws)\n\u001b[0;32m   2118\u001b[0m \u001b[38;5;66;03m# Add the markers here as PairGrid has figured out how many levels of the\u001b[39;00m\n\u001b[0;32m   2119\u001b[0m \u001b[38;5;66;03m# hue variable are needed and we don't want to duplicate that process\u001b[39;00m\n\u001b[0;32m   2120\u001b[0m \u001b[38;5;28;01mif\u001b[39;00m markers \u001b[38;5;129;01mis\u001b[39;00m \u001b[38;5;129;01mnot\u001b[39;00m \u001b[38;5;28;01mNone\u001b[39;00m:\n",
      "File \u001b[1;32m~\\anaconda3\\lib\\site-packages\\seaborn\\axisgrid.py:1321\u001b[0m, in \u001b[0;36mPairGrid.__init__\u001b[1;34m(self, data, hue, vars, x_vars, y_vars, hue_order, palette, hue_kws, corner, diag_sharey, height, aspect, layout_pad, despine, dropna)\u001b[0m\n\u001b[0;32m   1310\u001b[0m     \u001b[38;5;28mself\u001b[39m\u001b[38;5;241m.\u001b[39mhue_vals \u001b[38;5;241m=\u001b[39m pd\u001b[38;5;241m.\u001b[39mSeries([\u001b[38;5;124m\"\u001b[39m\u001b[38;5;124m_nolegend_\u001b[39m\u001b[38;5;124m\"\u001b[39m] \u001b[38;5;241m*\u001b[39m \u001b[38;5;28mlen\u001b[39m(data),\n\u001b[0;32m   1311\u001b[0m                               index\u001b[38;5;241m=\u001b[39mdata\u001b[38;5;241m.\u001b[39mindex)\n\u001b[0;32m   1312\u001b[0m \u001b[38;5;28;01melse\u001b[39;00m:\n\u001b[0;32m   1313\u001b[0m     \u001b[38;5;66;03m# We need hue_order and hue_names because the former is used to control\u001b[39;00m\n\u001b[0;32m   1314\u001b[0m     \u001b[38;5;66;03m# the order of drawing and the latter is used to control the order of\u001b[39;00m\n\u001b[1;32m   (...)\u001b[0m\n\u001b[0;32m   1319\u001b[0m     \u001b[38;5;66;03m# to the axes-level functions, while always handling legend creation.\u001b[39;00m\n\u001b[0;32m   1320\u001b[0m     \u001b[38;5;66;03m# See GH2307\u001b[39;00m\n\u001b[1;32m-> 1321\u001b[0m     hue_names \u001b[38;5;241m=\u001b[39m hue_order \u001b[38;5;241m=\u001b[39m categorical_order(\u001b[43mdata\u001b[49m\u001b[43m[\u001b[49m\u001b[43mhue\u001b[49m\u001b[43m]\u001b[49m, hue_order)\n\u001b[0;32m   1322\u001b[0m     \u001b[38;5;28;01mif\u001b[39;00m dropna:\n\u001b[0;32m   1323\u001b[0m         \u001b[38;5;66;03m# Filter NA from the list of unique hue names\u001b[39;00m\n\u001b[0;32m   1324\u001b[0m         hue_names \u001b[38;5;241m=\u001b[39m \u001b[38;5;28mlist\u001b[39m(\u001b[38;5;28mfilter\u001b[39m(pd\u001b[38;5;241m.\u001b[39mnotnull, hue_names))\n",
      "File \u001b[1;32m~\\anaconda3\\lib\\site-packages\\pandas\\core\\frame.py:3505\u001b[0m, in \u001b[0;36mDataFrame.__getitem__\u001b[1;34m(self, key)\u001b[0m\n\u001b[0;32m   3503\u001b[0m \u001b[38;5;28;01mif\u001b[39;00m \u001b[38;5;28mself\u001b[39m\u001b[38;5;241m.\u001b[39mcolumns\u001b[38;5;241m.\u001b[39mnlevels \u001b[38;5;241m>\u001b[39m \u001b[38;5;241m1\u001b[39m:\n\u001b[0;32m   3504\u001b[0m     \u001b[38;5;28;01mreturn\u001b[39;00m \u001b[38;5;28mself\u001b[39m\u001b[38;5;241m.\u001b[39m_getitem_multilevel(key)\n\u001b[1;32m-> 3505\u001b[0m indexer \u001b[38;5;241m=\u001b[39m \u001b[38;5;28;43mself\u001b[39;49m\u001b[38;5;241;43m.\u001b[39;49m\u001b[43mcolumns\u001b[49m\u001b[38;5;241;43m.\u001b[39;49m\u001b[43mget_loc\u001b[49m\u001b[43m(\u001b[49m\u001b[43mkey\u001b[49m\u001b[43m)\u001b[49m\n\u001b[0;32m   3506\u001b[0m \u001b[38;5;28;01mif\u001b[39;00m is_integer(indexer):\n\u001b[0;32m   3507\u001b[0m     indexer \u001b[38;5;241m=\u001b[39m [indexer]\n",
      "File \u001b[1;32m~\\anaconda3\\lib\\site-packages\\pandas\\core\\indexes\\base.py:3631\u001b[0m, in \u001b[0;36mIndex.get_loc\u001b[1;34m(self, key, method, tolerance)\u001b[0m\n\u001b[0;32m   3629\u001b[0m     \u001b[38;5;28;01mreturn\u001b[39;00m \u001b[38;5;28mself\u001b[39m\u001b[38;5;241m.\u001b[39m_engine\u001b[38;5;241m.\u001b[39mget_loc(casted_key)\n\u001b[0;32m   3630\u001b[0m \u001b[38;5;28;01mexcept\u001b[39;00m \u001b[38;5;167;01mKeyError\u001b[39;00m \u001b[38;5;28;01mas\u001b[39;00m err:\n\u001b[1;32m-> 3631\u001b[0m     \u001b[38;5;28;01mraise\u001b[39;00m \u001b[38;5;167;01mKeyError\u001b[39;00m(key) \u001b[38;5;28;01mfrom\u001b[39;00m \u001b[38;5;21;01merr\u001b[39;00m\n\u001b[0;32m   3632\u001b[0m \u001b[38;5;28;01mexcept\u001b[39;00m \u001b[38;5;167;01mTypeError\u001b[39;00m:\n\u001b[0;32m   3633\u001b[0m     \u001b[38;5;66;03m# If we have a listlike key, _check_indexing_error will raise\u001b[39;00m\n\u001b[0;32m   3634\u001b[0m     \u001b[38;5;66;03m#  InvalidIndexError. Otherwise we fall through and re-raise\u001b[39;00m\n\u001b[0;32m   3635\u001b[0m     \u001b[38;5;66;03m#  the TypeError.\u001b[39;00m\n\u001b[0;32m   3636\u001b[0m     \u001b[38;5;28mself\u001b[39m\u001b[38;5;241m.\u001b[39m_check_indexing_error(key)\n",
      "\u001b[1;31mKeyError\u001b[0m: 'class'"
     ]
    },
    {
     "data": {
      "image/png": "[encoded data removed]",
      "text/plain": [
       "<Figure size 2500x2500 with 100 Axes>"
      ]
     },
     "metadata": {},
     "output_type": "display_data"
    }
   ],
   "source": [
    "sns.pairplot(df.iloc[:,1:11], hue ='class')\n",
    "plt.plot()\n",
    "plt.show()"
   ]
  },
  {
   "cell_type": "markdown",
   "id": "3f30fbb5",
   "metadata": {},
   "source": [
    "### <font color=darkblue><ins>Count Plots</ins></font>\n",
    "Firstly, using the <a href=\"https://www.geeksforgeeks.org/how-to-count-occurrences-of-specific-value-in-pandas-column/\" target=\"_top\">value.counts()</a> method, I calculated the exact number of benign (2) and malignant (4) instances in the dataframe. "
   ]
  },
  {
   "cell_type": "code",
   "execution_count": null,
   "id": "9e9b6fe9",
   "metadata": {},
   "outputs": [],
   "source": [
    "benign = (df['class'].value_counts()[2])\n",
    "print(benign)"
   ]
  },
  {
   "cell_type": "code",
   "execution_count": null,
   "id": "bd4ce763",
   "metadata": {},
   "outputs": [],
   "source": [
    "malignant = (df['class'].value_counts()[4])\n",
    "print(malignant)"
   ]
  },
  {
   "cell_type": "markdown",
   "id": "b2f7d8ce",
   "metadata": {},
   "source": [
    "Using the <a href=\"https://seaborn.pydata.org/generated/seaborn.countplot.html\" target=\"_top\">sns.countplot()</a> function, it is possible to visually plot the data under any of the attributes.\n",
    "\n",
    "Below, using **Fig 1.** to visually demonstrate, the plot clearly shows that out of the 683 instances, the majority of the instances were benign with about 445 instances and the remaining cases were malignant. "
   ]
  },
  {
   "cell_type": "code",
   "execution_count": null,
   "id": "a596134e",
   "metadata": {},
   "outputs": [],
   "source": [
    "# Plotting the data\n",
    "sns.set(style = 'whitegrid')\n",
    "plt.figure(figsize=(6,5))\n",
    "sns.countplot(x='class', data=df, label= 'Benign = 2 & Malignant = 4')\n",
    "plt.title('Count of Malignant & Benign Cases', color = 'darkblue')\n",
    "plt.legend()\n",
    "plt.show()"
   ]
  },
  {
   "cell_type": "markdown",
   "id": "6a2dfeff",
   "metadata": {},
   "source": [
    "I also looked at the occurences of values (between 1 and 10) of all of the input attributes on **Figs 1 to 9** below. These give a visual representation of the occurences of each of the values of each of the input values. They show that with the exception of *Epithelial Size* and *Bland Chromatin* the rest of the variables most common value was 1. The *Mitoses* plot tells us that there were no values of *9* for that variable. \n",
    "\n",
    "Using the ``subplot()`` function <a href=\"https://www.w3schools.com/python/matplotlib_subplot.asp\" target=\"_top\">W3schools. (2023)</a>, I have plotted three plots side by side in three seperate. I have run this code in three seperate cells so that all 9 of the plots are legible and can be analysied clearly. I have also used code from <a href=\"https://stackoverflow.com/a/71764226\" target=\"_top\">Stackoverflow (2022)</a>, to bypass error ``Type error: 'str' object is not callable``.\n"
   ]
  },
  {
   "cell_type": "code",
   "execution_count": null,
   "id": "2d14dade",
   "metadata": {},
   "outputs": [],
   "source": [
    "from importlib import reload #To remove Type error: 'str' object is not callable \n",
    "plt=reload(plt)"
   ]
  },
  {
   "cell_type": "code",
   "execution_count": null,
   "id": "b483192b",
   "metadata": {},
   "outputs": [],
   "source": [
    "sns.set(style = 'darkgrid')\n",
    "plt.figure(figsize=(15,5))\n",
    "plt.subplot(1,3,1)\n",
    "sns.countplot(x='clump_thickness', data=df)\n",
    "plt.title(\"Plot 1. Clump Thickness\")\n",
    "\n",
    "plt.subplot(1,3,2)\n",
    "sns.countplot(x='size_uniformity', data=df)\n",
    "plt.title(\"Plot 2. Size Uniformity\")\n",
    "\n",
    "plt.subplot(1,3,3)\n",
    "sns.countplot(x='shape_uniformity', data=df)\n",
    "plt.title(\"Plot 3. Shape Uniformity\")\n",
    "\n",
    "plt.show()"
   ]
  },
  {
   "cell_type": "code",
   "execution_count": null,
   "id": "86f65beb",
   "metadata": {},
   "outputs": [],
   "source": [
    "sns.set(style = 'darkgrid')\n",
    "plt.figure(figsize=(15,5))\n",
    "\n",
    "plt.subplot(1,3,1)\n",
    "sns.countplot(x='marginal_adhesion', data=df)\n",
    "plt.title(\"Plot 4. Marginal Adhesion\")\n",
    "\n",
    "plt.subplot(1,3,2)\n",
    "sns.countplot(x='epithelial_size', data=df)\n",
    "plt.title(\"Plot 5. Epithelial Size\")\n",
    "\n",
    "plt.subplot(1,3,3)\n",
    "sns.countplot(x='bare_nucleoli', data=df)\n",
    "plt.title(\"Plot 6. Bare Nucleoli\")\n",
    "\n",
    "plt.show()"
   ]
  },
  {
   "cell_type": "code",
   "execution_count": null,
   "id": "fde8415e",
   "metadata": {},
   "outputs": [],
   "source": [
    "sns.set(style = 'darkgrid')\n",
    "plt.figure(figsize=(15,5))\n",
    "\n",
    "plt.subplot(1,3,1)\n",
    "sns.countplot(x='bland_chromatin', data=df)\n",
    "plt.title(\"Plot 7. Bland Chromatin\")\n",
    "\n",
    "plt.subplot(1,3,2)\n",
    "sns.countplot(x='normal_nucleoli', data=df)\n",
    "plt.title(\"Plot 8. Normal Nucleoli\")\n",
    "\n",
    "plt.subplot(1,3,3)\n",
    "sns.countplot(x='mitoses', data=df)\n",
    "plt.title(\"Plot 9. Mitoses\")\n",
    "\n",
    "plt.show()"
   ]
  },
  {
   "cell_type": "markdown",
   "id": "26461260",
   "metadata": {},
   "source": [
    "To delve into this further using the ``hue`` parameter, **Figs 10 to 18** below demonstrate the relationship between the values for the 9 different input features and the outcome of the *class* feature. "
   ]
  },
  {
   "cell_type": "code",
   "execution_count": null,
   "id": "95b3bf02",
   "metadata": {},
   "outputs": [],
   "source": [
    "# Plotting \n",
    "sns.set(style = 'darkgrid')\n",
    "plt.figure(figsize=(15,5))\n",
    "plt.subplot(1,3,1)\n",
    "sns.countplot(x='clump_thickness', hue ='class', data=df)\n",
    "plt.title(\"Plot 10. Clump Thickness & Class\")\n",
    "\n",
    "plt.subplot(1,3,2)\n",
    "sns.countplot(x='size_uniformity', hue ='class', data=df)\n",
    "plt.title(\"Plot 11. Size Uniformity & Class\")\n",
    "\n",
    "plt.subplot(1,3,3)\n",
    "sns.countplot(x='shape_uniformity', hue ='class', data=df)\n",
    "plt.title(\"Plot 12. Shape Uniformity & Class\")\n",
    "\n",
    "plt.show()"
   ]
  },
  {
   "cell_type": "code",
   "execution_count": null,
   "id": "f24ed224",
   "metadata": {},
   "outputs": [],
   "source": [
    "sns.set(style = 'darkgrid')\n",
    "plt.figure(figsize=(15,5))\n",
    "\n",
    "plt.subplot(1,3,1)\n",
    "sns.countplot(x='marginal_adhesion', hue ='class', data=df)\n",
    "plt.title(\"Fig 13. Marginal Adhesion & Class\")\n",
    "\n",
    "plt.subplot(1,3,2)\n",
    "sns.countplot(x='epithelial_size', hue ='class', data=df)\n",
    "plt.title(\"Fig 14. Epithelial Size & Class\")\n",
    "\n",
    "plt.subplot(1,3,3)\n",
    "sns.countplot(x='bare_nucleoli', hue ='class', data=df)\n",
    "plt.title(\"Fig 15. Bare Nucleoli & Class\")\n",
    "\n",
    "plt.show()"
   ]
  },
  {
   "cell_type": "code",
   "execution_count": null,
   "id": "b3700418",
   "metadata": {},
   "outputs": [],
   "source": [
    "sns.set(style = 'darkgrid')\n",
    "plt.figure(figsize=(15,5))\n",
    "\n",
    "plt.subplot(1,3,1)\n",
    "sns.countplot(x='bland_chromatin', hue ='class', data=df)\n",
    "plt.title(\"Plot 16. Bland Chromatin & Class\")\n",
    "\n",
    "plt.subplot(1,3,2)\n",
    "sns.countplot(x='normal_nucleoli', hue ='class', data=df)\n",
    "plt.title(\"Plot 17. Normal Nucleoli & Class\")\n",
    "\n",
    "plt.subplot(1,3,3)\n",
    "sns.countplot(x='mitoses', hue ='class', data=df)\n",
    "plt.title(\"Plot 18. Mitoses & Class\")\n",
    "\n",
    "plt.show()"
   ]
  },
  {
   "cell_type": "markdown",
   "id": "41cbbd2b",
   "metadata": {},
   "source": [
    "To take some examples to demonstrate how the two sets of plots work:\n",
    "\n",
    "#### <ins>Example 1:</ins>\n",
    "\n",
    "Looking at the variable **Clump Thickness**, **Fig 1** shows that there are about 139 instances where this feature has a value of 1. Looking at the  corresponding plot **Fig 10 Clump Thickness & Class** of these 139 instances of value 1, about 134 of the cases were benign and about 5 were malignant. \n",
    "\n",
    "For the same two plots, **Plot 1** shows that  value of 10 was recorded for about 70 cases. **Plot 10** then shows that all of these 70 cases turned out to be malignant.  \n",
    "\n",
    "#### <ins>Example 2:</ins>\n",
    "To look at another variable **Mitoses**, interestingly, **Plot 9** shows that the majority of the cases (about 550 cases) had a low value of 1. **Plot 18** however shows while the majority of these cases were in fact benign (about 425) there were quite a significant number of malignant cases (about 125 cases)."
   ]
  },
  {
   "cell_type": "markdown",
   "id": "6b48f9e2",
   "metadata": {},
   "source": [
    "### <font color=darkblue><ins>Lineplots</ins></font>\n",
    "\n",
    "The <a href=\"https://seaborn.pydata.org/generated/seaborn.lineplot.html#seaborn.lineplot\" target=\"_top\">sns.lineplot()</a> function, is another plotting function that can be used to visually demonstrate the relationship between variables. The nine lineplots below show some of the relationships between the input variables. "
   ]
  },
  {
   "cell_type": "code",
   "execution_count": null,
   "id": "0d0db254",
   "metadata": {},
   "outputs": [],
   "source": [
    "sns.set(style = 'darkgrid')\n",
    "plt.figure(figsize=(15,5))\n",
    "\n",
    "plt.subplot(1,3,1)\n",
    "sns.lineplot(x =\"clump_thickness\", y = 'size_uniformity',  data = df)\n",
    "plt.title(\"Plot 19. Clump Thickness & Size Uniformity\")\n",
    "\n",
    "\n",
    "plt.subplot(1,3,2)\n",
    "sns.lineplot(x =\"size_uniformity\", y = 'shape_uniformity', data = df)\n",
    "plt.title(\"Plot 20. Size Uniformity & Shape Uniformity\")\n",
    "\n",
    "\n",
    "plt.subplot(1,3,3)\n",
    "sns.lineplot(x =\"shape_uniformity\", y = 'marginal_adhesion', data = df)\n",
    "plt.title(\"Plot 21. Shape Uniformity & Marginal Adhesion\")\n",
    "\n",
    "\n",
    "plt.show()"
   ]
  },
  {
   "cell_type": "code",
   "execution_count": null,
   "id": "53027f09",
   "metadata": {},
   "outputs": [],
   "source": [
    "sns.set(style = 'darkgrid')\n",
    "plt.figure(figsize=(15,5))\n",
    "\n",
    "plt.subplot(1,3,1)\n",
    "sns.lineplot(x =\"marginal_adhesion\", y = 'epithelial_size', data = df)\n",
    "plt.title(\"Plot 22. Marginal Adhesion & Epithelial Size\")\n",
    "\n",
    "\n",
    "plt.subplot(1,3,2)\n",
    "sns.lineplot(x =\"epithelial_size\", y = 'bare_nucleoli', data = df)\n",
    "plt.title(\"Plot 23. Epithelial Size & Bare Nucleoli\")\n",
    "\n",
    "\n",
    "plt.subplot(1,3,3)\n",
    "sns.lineplot(x =\"bare_nucleoli\", y = 'bland_chromatin', data = df)\n",
    "plt.title(\"Plot 24. Bare Nucleoli & Bland Chromatin\")\n",
    "\n",
    "\n",
    "plt.show()"
   ]
  },
  {
   "cell_type": "code",
   "execution_count": null,
   "id": "8b16f23b",
   "metadata": {},
   "outputs": [],
   "source": [
    "sns.set(style = 'darkgrid')\n",
    "plt.figure(figsize=(15,5))\n",
    "\n",
    "plt.subplot(1,3,1)\n",
    "sns.lineplot(x =\"bland_chromatin\", y = 'normal_nucleoli', data = df)\n",
    "plt.title(\"Plot 25. Bland Chromatin & Normal Nucleoli\")\n",
    "\n",
    "\n",
    "plt.subplot(1,3,2)\n",
    "sns.lineplot(x =\"normal_nucleoli\", y = 'mitoses', data = df)\n",
    "plt.title(\"Plot 26. Normal Nucleoli & Mitoses\")\n",
    "\n",
    "\n",
    "plt.subplot(1,3,3)\n",
    "sns.lineplot(x =\"mitoses\", y = 'clump_thickness', data = df)\n",
    "plt.title(\"Plot 27. Mitoses & Clump Thickness\")\n",
    "\n",
    "\n",
    "plt.show()"
   ]
  },
  {
   "cell_type": "markdown",
   "id": "d7cdfbaf",
   "metadata": {},
   "source": [
    "It is clear from the plots above that some of the variables have more of a positive linear relationship with eachother than others do. For example, **Plot 20** *shape uniformity* and *size uniformity* generally are positively correlated with the exception of a couple datapoints.\n",
    "\n",
    "The relationship between *mitoses* and *Clump thickness* in **Plot 27** then is not as linear so this indicates that the relationship between them is not as strong."
   ]
  },
  {
   "cell_type": "markdown",
   "id": "8db1d5b5",
   "metadata": {},
   "source": [
    "### <font color=darkblue><ins>Heat Maps</ins></font>\n",
    "\n",
    "Using the <a href=\"https://seaborn.pydata.org/generated/seaborn.heatmap.html\" target=\"_top\">seaborn.heatmap()</a> function, we can get a full breakdown of the correlations between variables in one simple table. \n",
    "\n",
    "The closer the correlation is to 1 the, the stronger the correlation between the variables. The closer to 0 it is, the weaker the correlation between them. In addition, the closer the correlation is to **+1**, the more positively correlated the variables are and the closer the correlation is to **-1** the stronger the negative corellation is. Positive Correlation is where the value of **x** goes up, the value of **y** goes up. Negaive correlation means that as the value of $x$ goes up, the value of **y** goes down. Correlation is represented by the letter **r** <a href=\"https://www.andrews.edu/~calkins/math/edrm611/edrm05.htm#:~:text=The%20closer%20r%20is%20to,and%20Fahrenheit%20are%20perfectly%20correlated.\" target=\"_top\">andrews.edu. (2005).</a>"
   ]
  },
  {
   "cell_type": "code",
   "execution_count": null,
   "id": "1bf7a127",
   "metadata": {},
   "outputs": [],
   "source": [
    "# Plotting correlation heatmap\n",
    "# Changing the size of the heatmap \n",
    "sns.set(rc={\"figure.figsize\":(9, 9)})\n",
    "#https://stackoverflow.com/questions/31594549/how-to-change-the-figure-size-of-a-seaborn-axes-or-figure-level-plot\n",
    "\n",
    "#print(df.corr())\n",
    "# Creating the correlation heatmap \n",
    "dataplot = sns.heatmap(df.corr(), cmap='twilight_r', annot=True) \n",
    "plt.show()\n",
    "#https://www.geeksforgeeks.org/how-to-create-a-seaborn-correlation-heatmap-in-python/"
   ]
  },
  {
   "cell_type": "markdown",
   "id": "c1840e35",
   "metadata": {},
   "source": [
    "Taking the two examples already discussed under the **Lineplots** section the heatmap above shows that there is correlation of 0.91 between *shape uniformaty* and *size uniformaty* confirming a very strong positive correlation between them. This corrseponds with the line plot which suggests a positive linear relationship between them.\n",
    "\n",
    "Looking at *Clump Thickness* and *Mitoses* again, the correlation is 0.35. This value is quite low cofirming quite a weak correltion between the variables and corresponds with the non linear relationship demontsrated on the line plot above."
   ]
  },
  {
   "cell_type": "markdown",
   "id": "325b93a2",
   "metadata": {},
   "source": [
    "## <font color=darkblue><ins>Training Classifiers</ins></font>\n",
    "This section focuses on using machine learning algorithms to train a set of classifiers on the dataset. The section will also look at the performance results of the classifiers. Firstly, below I have stored all of the dataset's input variables as *inputs* and the output variable as *outputs* for the purposes of running the classifiers."
   ]
  },
  {
   "cell_type": "markdown",
   "id": "4f655288",
   "metadata": {},
   "source": [
    "### Inputs and Outputs"
   ]
  },
  {
   "cell_type": "code",
   "execution_count": 132,
   "id": "f8d6caa3",
   "metadata": {},
   "outputs": [],
   "source": [
    "inputs =df[['Clump_Thickness', 'Uniformity_of_Cell_Size', 'Uniformity_of_Cell_Shape', 'Marginal_Adhesion', 'Single_Epithelial_Cell_Size',\n",
    "            'Bare_Nuclei', 'Bland_Chromatin', 'Normal_Nucleoli', 'Mitoses']]\n",
    "outputs =df[['Class']] "
   ]
  },
  {
   "cell_type": "markdown",
   "id": "4ac94755",
   "metadata": {},
   "source": [
    "### KNN (K Nearest Neighbors) Classifier \n",
    "\n",
    "The first classifier I have chosen is the KNN (K nearest Neighbors) classifier. \n",
    "\n",
    "### Training\n",
    "\n",
    "Firstly I have imported <a href=\"https://seaborn.pydata.org/generated/seaborn.pairplot.html\" target=\"_top\">sklearn.model_selection.train_test_split</a> for splitting the data into training and testing data. This function splits the data randomly so that there is data being used from throughout the dataset for training to make the training fairer. Test size = 0.33 means that one third of the input and output data will be used for testing and the remaining two thirds of the input and output data will be used to train the classifier.\n",
    "\n",
    "https://towardsdatascience.com/k-nearest-neighbors-94395f445221"
   ]
  },
  {
   "cell_type": "code",
   "execution_count": 154,
   "id": "99bc4e71",
   "metadata": {},
   "outputs": [],
   "source": [
    "from sklearn.model_selection import train_test_split"
   ]
  },
  {
   "cell_type": "code",
   "execution_count": 189,
   "id": "376e1e3d",
   "metadata": {},
   "outputs": [],
   "source": [
    "#Training the classifier \n",
    "inputs_train, inputs_test, outputs_train, outputs_test = train_test_split(inputs, outputs, test_size= 0.33)"
   ]
  },
  {
   "cell_type": "markdown",
   "id": "a25c4973",
   "metadata": {},
   "source": [
    "### Classifier\n",
    "Next, the KKN classifier is imported from <a href=\"https://scikit-learn.org/stable/modules/generated/sklearn.neighbors.KNeighborsClassifier.html\" target=\"_top\">scikit learn</a>. It's only parameter for this is that its number of neighbors is 5. This is defaulted at 5. It is better if it is an uneven number, as the result of the classifiers predictions is based on the majority nearest neighbour type. If there is an even number of neighbors, a case may arise where two neighbor types have the same number of votes into the prediction. "
   ]
  },
  {
   "cell_type": "code",
   "execution_count": 156,
   "id": "d6e19c90",
   "metadata": {},
   "outputs": [],
   "source": [
    "from sklearn.neighbors import KNeighborsClassifier. "
   ]
  },
  {
   "cell_type": "code",
   "execution_count": 157,
   "id": "ec195b3b",
   "metadata": {},
   "outputs": [],
   "source": [
    "knn = KNeighborsClassifier(n_neighbors=5)"
   ]
  },
  {
   "cell_type": "markdown",
   "id": "71c636be",
   "metadata": {},
   "source": [
    "### Fit"
   ]
  },
  {
   "cell_type": "code",
   "execution_count": 158,
   "id": "774625f8",
   "metadata": {},
   "outputs": [
    {
     "name": "stderr",
     "output_type": "stream",
     "text": [
      "C:\\Users\\Admin\\anaconda3\\lib\\site-packages\\sklearn\\neighbors\\_classification.py:198: DataConversionWarning: A column-vector y was passed when a 1d array was expected. Please change the shape of y to (n_samples,), for example using ravel().\n",
      "  return self._fit(X, y)\n"
     ]
    },
    {
     "data": {
      "text/plain": [
       "KNeighborsClassifier()"
      ]
     },
     "execution_count": 158,
     "metadata": {},
     "output_type": "execute_result"
    }
   ],
   "source": [
    "knn.fit(inputs_train,outputs_train)"
   ]
  },
  {
   "cell_type": "markdown",
   "id": "a08608b3",
   "metadata": {},
   "source": [
    "### Predict"
   ]
  },
  {
   "cell_type": "code",
   "execution_count": 159,
   "id": "f9bad426",
   "metadata": {},
   "outputs": [
    {
     "name": "stderr",
     "output_type": "stream",
     "text": [
      "C:\\Users\\Admin\\anaconda3\\lib\\site-packages\\sklearn\\neighbors\\_classification.py:228: FutureWarning: Unlike other reduction functions (e.g. `skew`, `kurtosis`), the default behavior of `mode` typically preserves the axis it acts along. In SciPy 1.11.0, this behavior will change: the default value of `keepdims` will become False, the `axis` over which the statistic is taken will be eliminated, and the value None will no longer be accepted. Set `keepdims` to True or False to avoid this warning.\n",
      "  mode, _ = stats.mode(_y[neigh_ind, k], axis=1)\n"
     ]
    }
   ],
   "source": [
    "pred = knn.predict(inputs_test)"
   ]
  },
  {
   "cell_type": "code",
   "execution_count": 160,
   "id": "c7fb5944",
   "metadata": {},
   "outputs": [],
   "source": [
    "from sklearn.metrics import accuracy_score"
   ]
  },
  {
   "cell_type": "markdown",
   "id": "8deca81a",
   "metadata": {},
   "source": [
    "### Accuracy "
   ]
  },
  {
   "cell_type": "code",
   "execution_count": 161,
   "id": "7c1c05d7",
   "metadata": {},
   "outputs": [
    {
     "data": {
      "text/plain": [
       "0.9734513274336283"
      ]
     },
     "execution_count": 161,
     "metadata": {},
     "output_type": "execute_result"
    }
   ],
   "source": [
    "accuracy_score(pred,outputs_test)"
   ]
  },
  {
   "cell_type": "markdown",
   "id": "28fc4701",
   "metadata": {},
   "source": [
    "### Re-running the classifier 10 times"
   ]
  },
  {
   "cell_type": "markdown",
   "id": "f41f9922",
   "metadata": {},
   "source": [
    "I ran the above classifier 10 times getting the following accuracy results:\n",
    "\n",
    "0.9867256637168141,\n",
    "0.9823008849557522,\n",
    "0.9557522123893806,\n",
    "0.9601769911504425,\n",
    "0.9823008849557522,\n",
    "0.9690265486725663,\n",
    "0.9646017699115044,\n",
    "0.9823008849557522,\n",
    "0.9557522123893806,\n",
    "0.9601769911504425"
   ]
  },
  {
   "cell_type": "markdown",
   "id": "1c05fe4d",
   "metadata": {},
   "source": [
    "I stored the values in array and named it **x** and got the mean of the values."
   ]
  },
  {
   "cell_type": "code",
   "execution_count": 192,
   "id": "461437bf",
   "metadata": {},
   "outputs": [],
   "source": [
    "x = (0.9867256637168141,0.9823008849557522,0.9557522123893806,0.9601769911504425,0.9823008849557522,0.9690265486725663,\n",
    "0.9646017699115044,0.9823008849557522,0.9557522123893806,0.9601769911504425)"
   ]
  },
  {
   "cell_type": "code",
   "execution_count": 193,
   "id": "dbcc12a1",
   "metadata": {},
   "outputs": [
    {
     "data": {
      "text/plain": [
       "0.9699115044247788"
      ]
     },
     "execution_count": 193,
     "metadata": {},
     "output_type": "execute_result"
    }
   ],
   "source": [
    "np.mean(x)"
   ]
  },
  {
   "cell_type": "markdown",
   "id": "591da27e",
   "metadata": {},
   "source": [
    "The above mean value of 0.9699115044247788 (96.99% accuracy) suggests that KNN is a very accuarte classifier for this dataset. "
   ]
  },
  {
   "cell_type": "markdown",
   "id": "754e703d",
   "metadata": {},
   "source": [
    "### SVM (Support Vector Machines)\n",
    "https://www.datacamp.com/tutorial/svm-classification-scikit-learn-python"
   ]
  },
  {
   "cell_type": "code",
   "execution_count": 173,
   "id": "fd9e699a",
   "metadata": {},
   "outputs": [],
   "source": [
    "from sklearn import svm"
   ]
  },
  {
   "cell_type": "code",
   "execution_count": 174,
   "id": "4fe69759",
   "metadata": {},
   "outputs": [],
   "source": [
    "inputs_train, inputs_test, outputs_train, outputs_test = mod.train_test_split(inputs, outputs, test_size= 0.33)"
   ]
  },
  {
   "cell_type": "code",
   "execution_count": 175,
   "id": "40578247",
   "metadata": {},
   "outputs": [],
   "source": [
    "clf = svm.SVC(kernel='linear')"
   ]
  },
  {
   "cell_type": "code",
   "execution_count": 176,
   "id": "dd80d88e",
   "metadata": {},
   "outputs": [
    {
     "name": "stderr",
     "output_type": "stream",
     "text": [
      "C:\\Users\\Admin\\anaconda3\\lib\\site-packages\\sklearn\\utils\\validation.py:993: DataConversionWarning: A column-vector y was passed when a 1d array was expected. Please change the shape of y to (n_samples, ), for example using ravel().\n",
      "  y = column_or_1d(y, warn=True)\n"
     ]
    },
    {
     "data": {
      "text/plain": [
       "SVC(kernel='linear')"
      ]
     },
     "execution_count": 176,
     "metadata": {},
     "output_type": "execute_result"
    }
   ],
   "source": [
    "clf.fit(inputs_train, outputs_train)"
   ]
  },
  {
   "cell_type": "code",
   "execution_count": 180,
   "id": "cc951197",
   "metadata": {},
   "outputs": [],
   "source": [
    "outputs_pred = clf.predict(inputs_test)"
   ]
  },
  {
   "cell_type": "code",
   "execution_count": 182,
   "id": "1bdb5221",
   "metadata": {},
   "outputs": [],
   "source": [
    "from sklearn import metrics"
   ]
  },
  {
   "cell_type": "code",
   "execution_count": 183,
   "id": "ed0248dc",
   "metadata": {},
   "outputs": [
    {
     "name": "stdout",
     "output_type": "stream",
     "text": [
      "Accuracy: 0.9557522123893806\n"
     ]
    }
   ],
   "source": [
    "print(\"Accuracy:\",metrics.accuracy_score(outputs_test, outputs_pred))"
   ]
  },
  {
   "cell_type": "markdown",
   "id": "c6f8b36e",
   "metadata": {},
   "source": [
    "### <font color=darkblue><ins>Regression Analysis</ins></font>\n",
    "Using <a href=\"https://www.w3schools.com/python/python_ml_multiple_regression.asp\" target=\"_top\">multiple regression analysis</a>, the predicted values for variable **y** can be calculated by inputting values for variables **x**. Below, is an example where the predicted value of "
   ]
  },
  {
   "cell_type": "code",
   "execution_count": null,
   "id": "da5e441f",
   "metadata": {},
   "outputs": [],
   "source": [
    "x = df[['clump_thickness', 'size_uniformity', 'shape_uniformity','marginal_adhesion','epithelial_size', \n",
    "        'bare_nucleoli', 'bland_chromatin', 'normal_nucleoli']]\n",
    "y = df['mitoses'] #the attribute that I am predicting the value of, using the regression analysis\n",
    "\n",
    "regr = linear_model.LinearRegression() \n",
    "regr.fit(x.values, y) #run regression on given attributes (x) and output y\n",
    "\n",
    "\n",
    "predictedClass = np.round(regr.predict([[1,7,6,2,9,10,3,5]]),0)\n",
    "predictedClass\n",
    "\n",
    "print(\"The predicted value for mitoses is{}\" .format (predictedClass))"
   ]
  },
  {
   "cell_type": "markdown",
   "id": "54a87e47",
   "metadata": {},
   "source": [
    "## <font color=darkblue>References</font>\n",
    "***\n",
    "\n",
    "1. Heaton J. Github. breast-cancer-wisconsin.csv (2013) https://github.com/jeffheaton/aifh/blob/master/vol1/python-examples/datasets/breast-cancer-wisconsin.csv\n",
    "\n",
    "\n",
    "2. Pandas Documentation. (2022). https://pandas.pydata.org/docs/\n",
    "\n",
    "\n",
    "30. UCI Machine Learning Repository. Breast Cancer Wisconsin (Original) Data Set. https://archive.ics.uci.edu/ml/datasets/breast+cancer+wisconsin+(original)\n",
    "\n",
    "\n",
    "31. Kumar. A. Data Analytics. Python – Replace Missing Values with Mean, Median & Mode. (2021). https://vitalflux.com/pandas-impute-missing-values-mean-median-mode/\n",
    "\n",
    "\n",
    "32. Grace-Martin. K. the analysis factor. missing data: two big problems with mean imputation (2022). https://www.theanalysisfactor.com/mean-imputation/\n",
    "\n",
    "\n",
    "\n",
    "4. ODDS. Breast Cancer Wisconsin (Original) dataset. (2022). http://odds.cs.stonybrook.edu/breast-cancer-wisconsin-original-dataset/\n",
    "\n",
    "\n",
    "5. Ahmed. T, Omtiaz. N and Karmakar. A.(2020). Analysis of Wisconsin Breast Cancer original dataset using data mining and machine learning algorithms for breast cancer prediction\n",
    "https://www.journalbinet.com/uploads/2/1/0/0/21005390/67.02.09.2020_analysis_of_wisconsin_breast_cancer_original_dataset_using_data_mining_and_machine_learning_algorithms_for_breast_cancer_prediction.pdf\n",
    "\n",
    "\n",
    "6. Wolberg, W. H. (1992) Breast Cancer Wisconsin (Original) Data Set. https://archive.ics.uci.edu/ml/datasets/breast+cancer+wisconsin+(original)\n",
    "\n",
    "\n",
    "7. How to align table in Jupyter Notebook. Deepsim Acadamey. (2021). https://www.youtube.com/watch?v=_1jg0FlzpUs\n",
    "\n",
    "\n",
    "8. scikit-learn. (2022). https://scikit-learn.org/stable/\n",
    "\n",
    "\n",
    "\n",
    "9. Indeed Editorial Team. Machine Learning Classifiers: Definition and 5 Types. (2022). https://www.indeed.com/career-advice/career-development/classifiers-in-machine-learning\n",
    "\n",
    "\n",
    "10. Manoli. N.S & Padma. S.K. Study and Analysis of Breast Cancer Data (2017) https://www.ijert.org/research/study-and-analysis-of-breast-cancer-data-IJERTCONV5IS21015.pdf\n",
    "\n",
    "\n",
    "11. Wikipedia. Principal component analysis. (2022). https://en.wikipedia.org/wiki/Principal_component_analysis\n",
    "\n",
    "\n",
    "12. Vadapalli. P. (2020). PCA in Machine Learning: Assumptions, Steps to Apply & Applications. https://www.upgrad.com/blog/pca-in-machine-learning/\n",
    "\n",
    "\n",
    "13. Banoula. M. Understanding Naive Bayes Classifier. (2022). https://www.simplilearn.com/tutorials/machine-learning-tutorial/naive-bayes-classifier#:~:text=how%20it%20works.-,Understanding%20Naive%20Bayes%20Classifier,event%20A%20given%20event%20B.\n",
    "\n",
    "\n",
    "14. Saxena. S. Beginner’s Guide to Support Vector Machine(SVM) (2021). https://www.analyticsvidhya.com/blog/2021/03/beginners-guide-to-support-vector-machine-svm/#:~:text=A%20hyperplane%20is%20a%20decision,input%20features%20in%20the%20dataset.\n",
    "\n",
    "\n",
    "\n",
    "15. Pupale. R. Support Vector Machines(SVM) — An Overview(2018) https://towardsdatascience.com/https-medium-com-pupalerushikesh-svm-f4b42800e989\n",
    "\n",
    "\n",
    "16. Ahmed.T. et al. (2020). Analysis of Wisconsin Breast Cancer original dataset using data mining and machine learning algorithms for breast cancer prediction. https://www.journalbinet.com/uploads/2/1/0/0/21005390/67.02.09.2020_analysis_of_wisconsin_breast_cancer_original_dataset_using_data_mining_and_machine_learning_algorithms_for_breast_cancer_prediction.pdf\n",
    "\n",
    "\n",
    "17. Educative, Inc. What is a multi-layered perceptron?. (2022). https://www.educative.io/answers/what-is-a-multi-layered-perceptron\n",
    "\n",
    "\n",
    "18. Khanna.N. J48 Classification (C4.5 Algorithm) in a Nutshell. https://medium.com/@nilimakhanna1/j48-classification-c4-5-algorithm-in-a-nutshell-24c50d20658e\n",
    "\n",
    "\n",
    "19. G. Salama et al. (2012). Experimental Comparison of Classifiers for Breast Cancer Diagnosis. https://ieeexplore.ieee.org/stamp/stamp.jsp?tp=&arnumber=6408508 , https://www.semanticscholar.org/paper/Experimental-comparison-of-classifiers-for-breast-Salama-Abdelhalim/1437a72d1445abed6ae51020d0d041c63ef57bf3\n",
    "\n",
    "\n",
    "20. Arach. S,  Bouden. H (2019). Performance Analysis on Three Breast Cancer Datasets using Ensemble Classifiers Techniques http://ijmcs.future-in-tech.net/14.4/R-Arach.pdf\n",
    "\n",
    "\n",
    "21. Wikipedia. Random forest (2022). https://en.wikipedia.org/wiki/Random_forest\n",
    "\n",
    "\n",
    "\n",
    "22. Zacharski. R. Training Sets, Test Sets, and 10-fold Cross-validation. (2022). https://www.kdnuggets.com/2018/01/training-test-sets-cross-validation.html\n",
    "\n",
    "\n",
    "23. The scikit-yb developers. Recursive Feature Elimination. (2019). https://www.scikit-yb.org/en/latest/api/model_selection/rfecv.html\n",
    "\n",
    "\n",
    "24. Al-Joda. A.A, et al. (2021). Comparison of classification techniques based on medical datasets. https://ijnaa.semnan.ac.ir/article_5965_a1ca78998e8760f2915afc8b1d037e64.pdf\n",
    "\n",
    "\n",
    "25. Brownlee. J. Boosting and AdaBoost for Machine Learning. (2016). https://machinelearningmastery.com/boosting-and-adaboost-for-machine-learning/\n",
    "\n",
    "\n",
    "26. Abdulkareema S.A and Abdulkareem Z.O.(2021). An Evaluation of the Wisconsin Breast Cancer Dataset using Ensemble Classifiers and RFE Feature Selection Technique file:///C:/Users/Admin/Downloads/monther,+12300-Article+Text-36825-1-6-20210211%20(1).pdf\n",
    "\n",
    "\n",
    "27. Bhandari. A. Analytics Vidhya. Everything you Should Know about Confusion Matrix for Machine Learning. (2022). https://www.analyticsvidhya.com/blog/2020/04/confusion-matrix-machine-learning/\n",
    "\n",
    "\n",
    "28. M. Amrane, S. Oukid, I. Gagaoua and T. Ensarİ, \"Breast cancer classification using machine learning,\" 2018 Electric Electronics, Computer Science, Biomedical Engineerings' Meeting (EBBT), 2018, pp. 1-4, doi: 10.1109/EBBT.2018.8391453. https://ieeexplore.ieee.org/stamp/stamp.jsp?tp=&arnumber=8391453\n",
    "\n",
    "\n",
    "29. Wikipedia. Euclidean distance. (2022). https://en.wikipedia.org/wiki/Euclidean_distance\n",
    "\n",
    "\n",
    "\n",
    "\n",
    "### <font color=darkblue>Statistical Analysis of the Dataset</font>\n",
    "\n",
    "pandas. pandas.DataFrame.describe. (2022). https://pandas.pydata.org/docs/reference/api/pandas.DataFrame.describe.html\n",
    "\n",
    "\n",
    "pandas. pandas.DataFrame.shape. (2022). https://pandas.pydata.org/docs/reference/api/pandas.DataFrame.shape.html\n",
    "\n",
    "\n",
    "seaborn.pydata. seaborn.pairplot. (2022). https://seaborn.pydata.org/generated/seaborn.pairplot.html\n",
    "\n",
    "\n",
    "pandas. pandas.DataFrame.iloc (2022). https://pandas.pydata.org/docs/reference/api/pandas.DataFrame.iloc.html\n",
    "\n",
    "\n",
    "geeksforgeeks. How to Count Occurrences of Specific Value in Pandas Column? (2021). https://www.geeksforgeeks.org/how-to-count-occurrences-of-specific-value-in-pandas-column/\n",
    "\n",
    "\n",
    "seaborn. seaborn.countplot(). 2022. https://seaborn.pydata.org/generated/seaborn.countplot.html\n",
    "\n",
    "\n",
    "W3schools. (2023). Matplotlib Subplot. https://www.w3schools.com/python/matplotlib_subplot.asp\n",
    "\n",
    "\n",
    "Stackoverflow. (2022). Matplotlib pyplot.title(string) returns error. https://stackoverflow.com/a/71764226\n",
    "\n",
    "\n",
    "seaborn. seaborn.lineplot(). (2022). https://seaborn.pydata.org/generated/seaborn.lineplot.html#seaborn.lineplot\n"
   ]
  },
  {
   "cell_type": "code",
   "execution_count": null,
   "id": "4742c8bb",
   "metadata": {},
   "outputs": [],
   "source": []
  }
 ],
 "metadata": {
  "kernelspec": {
   "display_name": "Python 3 (ipykernel)",
   "language": "python",
   "name": "python3"
  },
  "language_info": {
   "codemirror_mode": {
    "name": "ipython",
    "version": 3
   },
   "file_extension": ".py",
   "mimetype": "text/x-python",
   "name": "python",
   "nbconvert_exporter": "python",
   "pygments_lexer": "ipython3",
   "version": "3.9.15"
  }
 },
 "nbformat": 4,
 "nbformat_minor": 5
}
